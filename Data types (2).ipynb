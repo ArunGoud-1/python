{
 "cells": [
  {
   "cell_type": "markdown",
   "id": "ba3b505c-381a-47b3-a2d3-0bc7062aa4eb",
   "metadata": {},
   "source": [
    "# ----TASK ---3.\n",
    "\n",
    "\n",
    "# 1)Explain About Data types?\n",
    "# 2)Explain about int with examples?\n",
    "# 3)Explain about floot with examples?\n",
    "# 4)Explain about complex with examples?"
   ]
  },
  {
   "cell_type": "markdown",
   "id": "69d26b94-203f-4892-9d0f-f00af599fd18",
   "metadata": {},
   "source": []
  },
  {
   "cell_type": "code",
   "execution_count": null,
   "id": "a8029bd6-df5f-489e-be9f-fd4d0b73e319",
   "metadata": {},
   "outputs": [],
   "source": []
  },
  {
   "cell_type": "markdown",
   "id": "c7616132-9a54-4363-8141-54294e57a3da",
   "metadata": {},
   "source": [
    "# 1)Explain About Data types?\n",
    "    - Python Data types are the classification or categorization of data items.\n",
    "    - Python Data Types are used to define the type of a variable.\n",
    "    - It represents the kind of value that tells what operations can be performed on a particular data\n",
    "\n",
    "## Data types is classfied int 2 types\n",
    "         - Basic\n",
    "         - Advanced\n",
    "\n",
    "#  - Basic :\n",
    "\n",
    " ### Basic Datatypes are As follows.\n",
    "         - int(integer).\n",
    "         - Floot (Decimals).\n",
    "         - Complex(combination of Real No. and imaginary No.)\n",
    "\n",
    "        \n",
    "    "
   ]
  },
  {
   "cell_type": "markdown",
   "id": "d08665f4-de9b-4b3a-a5c3-af8322c21908",
   "metadata": {},
   "source": [
    "# 2)Explain about int with examples ?\n",
    "\n",
    "     - INTEGER.\n",
    "        - integers are the collection of whole numbers and negative numbers.\n",
    "        - Similar to whole numbers, integers also does not include the fractional part.\n",
    "        - Thus, we can say, integers are numbers that can be positive, negative or zero, but cannot be a fraction.\n",
    "     "
   ]
  },
  {
   "cell_type": "code",
   "execution_count": 18,
   "id": "c12f9ec8-cf4b-4720-9c26-83458586fcda",
   "metadata": {},
   "outputs": [
    {
     "name": "stdout",
     "output_type": "stream",
     "text": [
      "190000\n",
      "19020\n",
      "999\n",
      "78546\n",
      "69548\n"
     ]
    }
   ],
   "source": [
    "## Examples.\n",
    "\n",
    "  # INTEGERS.\n",
    "\n",
    "Apple = 190000\n",
    "Realme = 19020\n",
    "Vivo = 999\n",
    "Poco = 78546\n",
    "Blackberry = 69548\n",
    "print(Apple)\n",
    "print(Realme)\n",
    "print(Vivo)\n",
    "print(Poco)\n",
    "print(Blackberry)\n",
    "    "
   ]
  },
  {
   "cell_type": "code",
   "execution_count": 20,
   "id": "c608f3e0-9128-4761-91f9-e42c360f5db6",
   "metadata": {},
   "outputs": [
    {
     "name": "stdout",
     "output_type": "stream",
     "text": [
      "<class 'int'>\n"
     ]
    }
   ],
   "source": [
    "print(type(Apple))"
   ]
  },
  {
   "cell_type": "code",
   "execution_count": 22,
   "id": "03ade5cb-e877-48ef-8bc3-e11ac6f6ff0c",
   "metadata": {},
   "outputs": [
    {
     "name": "stdout",
     "output_type": "stream",
     "text": [
      "<class 'int'>\n"
     ]
    }
   ],
   "source": [
    "print(type(Realme))"
   ]
  },
  {
   "cell_type": "code",
   "execution_count": 24,
   "id": "99115dd3-f0bf-4cf2-a58d-91f070006092",
   "metadata": {},
   "outputs": [
    {
     "name": "stdout",
     "output_type": "stream",
     "text": [
      "<class 'int'>\n"
     ]
    }
   ],
   "source": [
    "print(type(Vivo))"
   ]
  },
  {
   "cell_type": "code",
   "execution_count": 26,
   "id": "41756b94-a5a5-4313-af7d-d8379ec5e632",
   "metadata": {},
   "outputs": [
    {
     "name": "stdout",
     "output_type": "stream",
     "text": [
      "<class 'int'>\n"
     ]
    }
   ],
   "source": [
    "print(type(Poco))"
   ]
  },
  {
   "cell_type": "code",
   "execution_count": 28,
   "id": "c08cedbf-451b-49c1-8162-d4d76a5e26f5",
   "metadata": {},
   "outputs": [
    {
     "name": "stdout",
     "output_type": "stream",
     "text": [
      "<class 'int'>\n"
     ]
    }
   ],
   "source": [
    "print(type(Blackberry))"
   ]
  },
  {
   "cell_type": "markdown",
   "id": "1268b281-14e2-4e2c-9410-9bdbaed0fb04",
   "metadata": {},
   "source": [
    "# 3)Explain about floot with examples?\n",
    "     - Floot.\n",
    "        - The float data types are used to store positive and negative numbers with a decimal point.\n",
    "        - Floating point numbers are decimal values or fractional numbers like 133.5, 2897.11, and 3571.213.\n",
    "        "
   ]
  },
  {
   "cell_type": "code",
   "execution_count": 33,
   "id": "f9a4dc81-27d7-47b9-8da0-6253592ef935",
   "metadata": {},
   "outputs": [
    {
     "name": "stdout",
     "output_type": "stream",
     "text": [
      "19799.99\n"
     ]
    }
   ],
   "source": [
    "louisvuitton = 19799.99\n",
    "allensolly = 1999.9\n",
    "kelvinkelvin = 999.99\n",
    "Zara = 9899.9\n",
    "print(louisvuitton)"
   ]
  },
  {
   "cell_type": "code",
   "execution_count": 35,
   "id": "aafe4636-cac6-4073-b47f-7b6cb43b4329",
   "metadata": {},
   "outputs": [
    {
     "name": "stdout",
     "output_type": "stream",
     "text": [
      "1999.9\n"
     ]
    }
   ],
   "source": [
    "print(allensolly)"
   ]
  },
  {
   "cell_type": "code",
   "execution_count": 37,
   "id": "a4f7d6fb-fade-47be-a2b7-ec014d300987",
   "metadata": {},
   "outputs": [
    {
     "name": "stdout",
     "output_type": "stream",
     "text": [
      "999.99\n"
     ]
    }
   ],
   "source": [
    "print(kelvinkelvin)"
   ]
  },
  {
   "cell_type": "code",
   "execution_count": 39,
   "id": "706776de-8a86-43e2-856b-c347fecb72de",
   "metadata": {},
   "outputs": [
    {
     "name": "stdout",
     "output_type": "stream",
     "text": [
      "9899.9\n"
     ]
    }
   ],
   "source": [
    "print(Zara)"
   ]
  },
  {
   "cell_type": "code",
   "execution_count": 41,
   "id": "37c26bf5-bba7-4d02-a0f6-667c983fa9d5",
   "metadata": {},
   "outputs": [
    {
     "name": "stdout",
     "output_type": "stream",
     "text": [
      "<class 'float'>\n"
     ]
    }
   ],
   "source": [
    "print(type(louisvuitton))"
   ]
  },
  {
   "cell_type": "code",
   "execution_count": 43,
   "id": "b6c6b7a3-a2af-42bb-9f03-ae34e3b71a9a",
   "metadata": {},
   "outputs": [
    {
     "name": "stdout",
     "output_type": "stream",
     "text": [
      "<class 'float'>\n"
     ]
    }
   ],
   "source": [
    "print(type(allensolly))"
   ]
  },
  {
   "cell_type": "code",
   "execution_count": 45,
   "id": "f0d62dc1-fa7b-4c2d-8dd6-8024a82f3062",
   "metadata": {},
   "outputs": [
    {
     "name": "stdout",
     "output_type": "stream",
     "text": [
      "<class 'float'>\n"
     ]
    }
   ],
   "source": [
    "print(type(kelvinkelvin))"
   ]
  },
  {
   "cell_type": "code",
   "execution_count": 47,
   "id": "3ca92fb1-c0ea-4c9d-9e88-4611df4d89bf",
   "metadata": {},
   "outputs": [
    {
     "name": "stdout",
     "output_type": "stream",
     "text": [
      "<class 'float'>\n"
     ]
    }
   ],
   "source": [
    "print(type(Zara))"
   ]
  },
  {
   "cell_type": "markdown",
   "id": "778087a3-c422-49d6-857f-a3b36277f926",
   "metadata": {},
   "source": [
    "# 4)Explain about complex with examples?\n",
    "     - Complex.\n",
    "         - Python complex() function returns a complex number ( real + imaginary) example (5+2j) when real and imaginary parts.\n",
    "         - it also converts a string to a complex number.\n",
    "  "
   ]
  },
  {
   "cell_type": "code",
   "execution_count": 61,
   "id": "a0353655-0ccf-444f-b98c-38117029009e",
   "metadata": {},
   "outputs": [],
   "source": [
    "# prices of Goods j indicates gst.\n",
    "\n",
    "\n",
    "iphone16 =  109000+1j\n",
    "iphone16plus = 140000+2j\n",
    "iphone16pro = 170000+3j\n",
    "iphone16promax = 199999+5j"
   ]
  },
  {
   "cell_type": "code",
   "execution_count": 63,
   "id": "649ba180-fc63-4608-bf42-9278f8e8c9e5",
   "metadata": {},
   "outputs": [
    {
     "name": "stdout",
     "output_type": "stream",
     "text": [
      "(109000+1j)\n"
     ]
    }
   ],
   "source": [
    "print(iphone16)"
   ]
  },
  {
   "cell_type": "code",
   "execution_count": 65,
   "id": "4c51cc79-1eac-4922-9c9d-78187eb4813c",
   "metadata": {},
   "outputs": [
    {
     "name": "stdout",
     "output_type": "stream",
     "text": [
      "(140000+2j)\n"
     ]
    }
   ],
   "source": [
    "print(iphone16plus)"
   ]
  },
  {
   "cell_type": "code",
   "execution_count": 69,
   "id": "4beb3afa-b25e-43fa-991f-862290749192",
   "metadata": {},
   "outputs": [
    {
     "name": "stdout",
     "output_type": "stream",
     "text": [
      "(170000+3j)\n"
     ]
    }
   ],
   "source": [
    "print(iphone16pro)"
   ]
  },
  {
   "cell_type": "code",
   "execution_count": 71,
   "id": "bbe7c50c-8ed0-4659-a656-ec39d6d6f6f3",
   "metadata": {},
   "outputs": [
    {
     "name": "stdout",
     "output_type": "stream",
     "text": [
      "(199999+5j)\n"
     ]
    }
   ],
   "source": [
    "print(iphone16promax)"
   ]
  },
  {
   "cell_type": "code",
   "execution_count": 73,
   "id": "9fb88e3c-c58a-4180-8b70-bf4f0d4aa371",
   "metadata": {},
   "outputs": [
    {
     "name": "stdout",
     "output_type": "stream",
     "text": [
      "<class 'complex'>\n"
     ]
    }
   ],
   "source": [
    "print(type(iphone16))"
   ]
  },
  {
   "cell_type": "code",
   "execution_count": 75,
   "id": "ee6da77c-eefa-4052-b529-c53ddeefc913",
   "metadata": {},
   "outputs": [
    {
     "name": "stdout",
     "output_type": "stream",
     "text": [
      "<class 'complex'>\n"
     ]
    }
   ],
   "source": [
    "print(type(iphone16plus))"
   ]
  },
  {
   "cell_type": "code",
   "execution_count": 77,
   "id": "6c8ab204-5cd4-42b4-8ed8-a24760b6e0ef",
   "metadata": {},
   "outputs": [
    {
     "name": "stdout",
     "output_type": "stream",
     "text": [
      "<class 'complex'>\n"
     ]
    }
   ],
   "source": [
    "print(type(iphone16pro))"
   ]
  },
  {
   "cell_type": "code",
   "execution_count": 79,
   "id": "35cef900-5e13-41c4-bf5d-230d165e407b",
   "metadata": {},
   "outputs": [
    {
     "name": "stdout",
     "output_type": "stream",
     "text": [
      "<class 'complex'>\n"
     ]
    }
   ],
   "source": [
    "print(type(iphone16promax))"
   ]
  },
  {
   "cell_type": "code",
   "execution_count": null,
   "id": "baddb6cc-b0f2-4097-aeff-91d43fba4ee7",
   "metadata": {},
   "outputs": [],
   "source": []
  },
  {
   "cell_type": "code",
   "execution_count": null,
   "id": "32d0c0a6-816f-48bc-9b65-157ca477e77d",
   "metadata": {},
   "outputs": [],
   "source": []
  },
  {
   "cell_type": "code",
   "execution_count": null,
   "id": "04f286f2-0531-4d1e-8c5f-d64a1c5da6fd",
   "metadata": {},
   "outputs": [],
   "source": []
  },
  {
   "cell_type": "code",
   "execution_count": null,
   "id": "9c5c3566-659d-48ea-93a8-19e3ab6be31d",
   "metadata": {},
   "outputs": [],
   "source": []
  },
  {
   "cell_type": "code",
   "execution_count": 81,
   "id": "c1daebf2-8b1d-4cbb-aad3-3ffab19e0623",
   "metadata": {},
   "outputs": [],
   "source": [
    "## Integer .\n",
    "\n",
    "A = 10"
   ]
  },
  {
   "cell_type": "code",
   "execution_count": 83,
   "id": "6c596dce-aeb6-4f66-a26d-4b62fa0f27e4",
   "metadata": {},
   "outputs": [
    {
     "name": "stdout",
     "output_type": "stream",
     "text": [
      "10\n"
     ]
    }
   ],
   "source": [
    "print(A)"
   ]
  },
  {
   "cell_type": "code",
   "execution_count": 85,
   "id": "90e83f03-f949-4bfb-a18d-7ca6cac140cd",
   "metadata": {},
   "outputs": [
    {
     "name": "stdout",
     "output_type": "stream",
     "text": [
      "<class 'int'>\n"
     ]
    }
   ],
   "source": [
    "print(type(A))"
   ]
  },
  {
   "cell_type": "code",
   "execution_count": null,
   "id": "26984ed9-1f3c-4b54-a431-6b5f721ff8d1",
   "metadata": {},
   "outputs": [],
   "source": []
  },
  {
   "cell_type": "code",
   "execution_count": null,
   "id": "64ed30d9-2134-401f-ba61-c10ea78f8bd8",
   "metadata": {},
   "outputs": [],
   "source": []
  },
  {
   "cell_type": "code",
   "execution_count": 87,
   "id": "3394fa78-ab44-440d-b3b8-75511674f0fd",
   "metadata": {},
   "outputs": [],
   "source": [
    "## Floot.\n",
    "A = 1999.99"
   ]
  },
  {
   "cell_type": "code",
   "execution_count": 89,
   "id": "c4850c92-c7dd-49f0-bda9-e3624ae99e55",
   "metadata": {},
   "outputs": [
    {
     "name": "stdout",
     "output_type": "stream",
     "text": [
      "1999.99\n"
     ]
    }
   ],
   "source": [
    "print(A)"
   ]
  },
  {
   "cell_type": "code",
   "execution_count": 91,
   "id": "4a34654b-9423-460a-8c2b-38144dada871",
   "metadata": {},
   "outputs": [
    {
     "name": "stdout",
     "output_type": "stream",
     "text": [
      "<class 'float'>\n"
     ]
    }
   ],
   "source": [
    "print(type(A))"
   ]
  },
  {
   "cell_type": "code",
   "execution_count": null,
   "id": "8f3421d9-c949-49ee-8b47-7055bd576886",
   "metadata": {},
   "outputs": [],
   "source": []
  },
  {
   "cell_type": "code",
   "execution_count": null,
   "id": "35f86cd1-b434-4db6-9000-65ad16c05389",
   "metadata": {},
   "outputs": [],
   "source": []
  },
  {
   "cell_type": "code",
   "execution_count": 97,
   "id": "94cb47d2-1607-4c6e-b717-241b710ec23f",
   "metadata": {},
   "outputs": [],
   "source": [
    "## Complex \n",
    "A = 399+5j"
   ]
  },
  {
   "cell_type": "code",
   "execution_count": 99,
   "id": "f7972e5d-b8b5-4aeb-b1b1-ce3f050429db",
   "metadata": {},
   "outputs": [
    {
     "name": "stdout",
     "output_type": "stream",
     "text": [
      "(399+5j)\n"
     ]
    }
   ],
   "source": [
    "print(A)"
   ]
  },
  {
   "cell_type": "code",
   "execution_count": 101,
   "id": "31d06a65-a8bd-48f4-8ccb-8bc1004b8b0b",
   "metadata": {},
   "outputs": [
    {
     "name": "stdout",
     "output_type": "stream",
     "text": [
      "<class 'complex'>\n"
     ]
    }
   ],
   "source": [
    "print(type(A))"
   ]
  },
  {
   "cell_type": "code",
   "execution_count": null,
   "id": "cbcaebe8-7a7c-4b11-adbf-3c4764725e09",
   "metadata": {},
   "outputs": [],
   "source": []
  },
  {
   "cell_type": "code",
   "execution_count": null,
   "id": "309237c5-1dfa-4968-bad0-10c177e763c9",
   "metadata": {},
   "outputs": [],
   "source": []
  },
  {
   "cell_type": "markdown",
   "id": "00274763-d396-4407-a610-9622155adbe5",
   "metadata": {},
   "source": [
    "# Boolean :\n",
    "- Python boolean type is one of the built-in data types provided by Python, which represents one of the two values i.e. True or False. Generally, it is used to represent the truth values of the expressions.\n",
    "- true is indicated by \"1\".\n",
    "- False is indicated by \"0\".\n",
    "- IF an Expresssion has a value Then it is true.\n",
    "- IF an Expresssion has no value Then it is false."
   ]
  },
  {
   "cell_type": "code",
   "execution_count": 3,
   "id": "2f13747b-e07a-4a04-92fd-e83d26b75c5c",
   "metadata": {},
   "outputs": [
    {
     "data": {
      "text/plain": [
       "True"
      ]
     },
     "execution_count": 3,
     "metadata": {},
     "output_type": "execute_result"
    }
   ],
   "source": [
    "## boolean\n",
    "\n",
    "bool(3)"
   ]
  },
  {
   "cell_type": "code",
   "execution_count": 5,
   "id": "6dd388f2-346d-40a5-a2de-ec4bcd80c937",
   "metadata": {},
   "outputs": [
    {
     "data": {
      "text/plain": [
       "False"
      ]
     },
     "execution_count": 5,
     "metadata": {},
     "output_type": "execute_result"
    }
   ],
   "source": [
    "bool()"
   ]
  },
  {
   "cell_type": "markdown",
   "id": "12258a87-43f5-4685-b196-7da96adc7d29",
   "metadata": {},
   "source": [
    "# Type Conversitions\n",
    "    - Int--Float.\n",
    "    - Float--Int.\n",
    "    - complex--Int.\n",
    "    - float--Complex."
   ]
  },
  {
   "cell_type": "code",
   "execution_count": 11,
   "id": "897b12ac-1116-44d0-9d13-3b76624d1679",
   "metadata": {},
   "outputs": [
    {
     "name": "stdout",
     "output_type": "stream",
     "text": [
      "10.0\n"
     ]
    }
   ],
   "source": [
    "## Int--Float.\n",
    "A = 10\n",
    "B = float(A)\n",
    "print(B)"
   ]
  },
  {
   "cell_type": "code",
   "execution_count": 20,
   "id": "9187d497-5cc0-4056-abec-92c668a24956",
   "metadata": {},
   "outputs": [
    {
     "name": "stdout",
     "output_type": "stream",
     "text": [
      "7.0\n"
     ]
    }
   ],
   "source": [
    "A = 7\n",
    "d = float(A)\n",
    "print(d)"
   ]
  },
  {
   "cell_type": "code",
   "execution_count": 22,
   "id": "401ae2da-0528-4175-843d-19b0fd4acada",
   "metadata": {},
   "outputs": [
    {
     "name": "stdout",
     "output_type": "stream",
     "text": [
      "3325.0\n"
     ]
    }
   ],
   "source": [
    "V=3325\n",
    "D=float(V)\n",
    "print(D)"
   ]
  },
  {
   "cell_type": "code",
   "execution_count": null,
   "id": "9d897d84-481c-4048-8d2e-830bf28ca4c3",
   "metadata": {},
   "outputs": [],
   "source": []
  },
  {
   "cell_type": "code",
   "execution_count": 26,
   "id": "f0fa68bd-b958-49ec-a3c0-cfa92bc5a9eb",
   "metadata": {},
   "outputs": [
    {
     "name": "stdout",
     "output_type": "stream",
     "text": [
      "125\n"
     ]
    }
   ],
   "source": [
    "##  Float--Int.\n",
    "A = 125.9\n",
    "D =int(A)\n",
    "print(D)"
   ]
  },
  {
   "cell_type": "code",
   "execution_count": 28,
   "id": "cf09ab87-0ade-49e1-a032-285bc55ce7dd",
   "metadata": {},
   "outputs": [
    {
     "name": "stdout",
     "output_type": "stream",
     "text": [
      "60.8\n"
     ]
    }
   ],
   "source": [
    "F=60.8\n",
    "d=int(F)\n",
    "print(F)"
   ]
  },
  {
   "cell_type": "code",
   "execution_count": 30,
   "id": "9189efb5-0db5-415d-84a5-c3426e6d098c",
   "metadata": {},
   "outputs": [
    {
     "name": "stdout",
     "output_type": "stream",
     "text": [
      "698\n"
     ]
    }
   ],
   "source": [
    "g = 698.02\n",
    "j = int(g)\n",
    "print(j)"
   ]
  },
  {
   "cell_type": "code",
   "execution_count": null,
   "id": "d8299dbd-9482-4685-99d3-59568268a8e6",
   "metadata": {},
   "outputs": [],
   "source": []
  },
  {
   "cell_type": "code",
   "execution_count": 32,
   "id": "4d4e7a25-fef9-4a7e-abe1-692566172fc6",
   "metadata": {},
   "outputs": [
    {
     "ename": "TypeError",
     "evalue": "int() argument must be a string, a bytes-like object or a real number, not 'complex'",
     "output_type": "error",
     "traceback": [
      "\u001b[1;31m---------------------------------------------------------------------------\u001b[0m",
      "\u001b[1;31mTypeError\u001b[0m                                 Traceback (most recent call last)",
      "Cell \u001b[1;32mIn[32], line 3\u001b[0m\n\u001b[0;32m      1\u001b[0m \u001b[38;5;66;03m## Complex--Int.\u001b[39;00m\n\u001b[0;32m      2\u001b[0m Q \u001b[38;5;241m=\u001b[39m \u001b[38;5;241m69\u001b[39m\u001b[38;5;241m+\u001b[39m\u001b[38;5;241m9\u001b[39mj\n\u001b[1;32m----> 3\u001b[0m E \u001b[38;5;241m=\u001b[39m \u001b[38;5;28mint\u001b[39m(Q)\n\u001b[0;32m      4\u001b[0m \u001b[38;5;28mprint\u001b[39m(E)\n",
      "\u001b[1;31mTypeError\u001b[0m: int() argument must be a string, a bytes-like object or a real number, not 'complex'"
     ]
    }
   ],
   "source": [
    "## Complex--Int.\n",
    "Q = 69+9j\n",
    "E = int(Q)\n",
    "print(E)"
   ]
  },
  {
   "cell_type": "code",
   "execution_count": 34,
   "id": "18ac60b0-5d08-4590-83dd-9efc5d6c72c3",
   "metadata": {},
   "outputs": [
    {
     "name": "stdout",
     "output_type": "stream",
     "text": [
      "(10+0j)\n"
     ]
    }
   ],
   "source": [
    "## int--Complex\n",
    "A = 10\n",
    "Q = complex(A)\n",
    "print(Q)"
   ]
  },
  {
   "cell_type": "code",
   "execution_count": 38,
   "id": "9041f4fd-e9fe-408b-b042-8025fecfff91",
   "metadata": {},
   "outputs": [
    {
     "name": "stdout",
     "output_type": "stream",
     "text": [
      "(69+0j)\n"
     ]
    }
   ],
   "source": [
    "g = 69\n",
    "w = complex(g)\n",
    "print(w)"
   ]
  },
  {
   "cell_type": "code",
   "execution_count": 40,
   "id": "823d6825-3865-4839-8327-dac9ef8fa7d3",
   "metadata": {},
   "outputs": [
    {
     "name": "stdout",
     "output_type": "stream",
     "text": [
      "(564+0j)\n"
     ]
    }
   ],
   "source": [
    "f = 564\n",
    "h = complex(f)\n",
    "print(h)"
   ]
  },
  {
   "cell_type": "code",
   "execution_count": null,
   "id": "41c09bb4-1d97-4210-bde8-4d4f8798d007",
   "metadata": {},
   "outputs": [],
   "source": []
  },
  {
   "cell_type": "code",
   "execution_count": 42,
   "id": "1b96d26f-0100-433c-8627-53f60e96ee16",
   "metadata": {},
   "outputs": [
    {
     "name": "stdout",
     "output_type": "stream",
     "text": [
      "(89.9+0j)\n"
     ]
    }
   ],
   "source": [
    "## float--Complex.\n",
    "D = 89.9\n",
    "f = complex(D)\n",
    "print(f)"
   ]
  },
  {
   "cell_type": "code",
   "execution_count": 44,
   "id": "998a58b6-9d87-4aeb-b91a-0a162f132a29",
   "metadata": {},
   "outputs": [
    {
     "name": "stdout",
     "output_type": "stream",
     "text": [
      "(1+0j)\n"
     ]
    }
   ],
   "source": [
    "c = 1.0\n",
    "v = complex(c)\n",
    "print(v)"
   ]
  },
  {
   "cell_type": "code",
   "execution_count": null,
   "id": "fd955fd8-6cc2-40ac-b229-1b89fad1b734",
   "metadata": {},
   "outputs": [],
   "source": []
  }
 ],
 "metadata": {
  "kernelspec": {
   "display_name": "Python 3 (ipykernel)",
   "language": "python",
   "name": "python3"
  },
  "language_info": {
   "codemirror_mode": {
    "name": "ipython",
    "version": 3
   },
   "file_extension": ".py",
   "mimetype": "text/x-python",
   "name": "python",
   "nbconvert_exporter": "python",
   "pygments_lexer": "ipython3",
   "version": "3.12.4"
  }
 },
 "nbformat": 4,
 "nbformat_minor": 5
}
