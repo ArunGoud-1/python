{
 "cells": [
  {
   "cell_type": "code",
   "execution_count": 1,
   "id": "c24fe0a0-d3a4-48d8-9947-86568f4fc984",
   "metadata": {},
   "outputs": [
    {
     "name": "stdout",
     "output_type": "stream",
     "text": [
      "20\n"
     ]
    }
   ],
   "source": [
    "x = y = z = 20\n",
    "print (x)\n"
   ]
  },
  {
   "cell_type": "code",
   "execution_count": 3,
   "id": "1cca6173-c94f-43f7-8a4a-33607088c4c5",
   "metadata": {},
   "outputs": [
    {
     "name": "stdout",
     "output_type": "stream",
     "text": [
      "20\n"
     ]
    }
   ],
   "source": [
    "print(y)"
   ]
  },
  {
   "cell_type": "code",
   "execution_count": 5,
   "id": "19454fcf-9e4d-4c2a-8f5c-37fdc5d4a2bb",
   "metadata": {},
   "outputs": [
    {
     "name": "stdout",
     "output_type": "stream",
     "text": [
      "<class 'complex'>\n"
     ]
    }
   ],
   "source": [
    "f = 10\n",
    "j = 1.254\n",
    "y = 3 + 44j\n",
    "print(type(y))\n",
    "\n"
   ]
  },
  {
   "cell_type": "code",
   "execution_count": 7,
   "id": "9c2bb271-122e-4c4a-a78e-3c3f31894b6e",
   "metadata": {},
   "outputs": [
    {
     "name": "stdout",
     "output_type": "stream",
     "text": [
      "<class 'int'>\n"
     ]
    }
   ],
   "source": [
    "print(type(f))"
   ]
  },
  {
   "cell_type": "code",
   "execution_count": 9,
   "id": "13b712bf-d5a7-48be-ad4a-7a4b4276b300",
   "metadata": {},
   "outputs": [
    {
     "ename": "SyntaxError",
     "evalue": "invalid decimal literal (1603162554.py, line 1)",
     "output_type": "error",
     "traceback": [
      "\u001b[1;36m  Cell \u001b[1;32mIn[9], line 1\u001b[1;36m\u001b[0m\n\u001b[1;33m    t = 5 + 88k\u001b[0m\n\u001b[1;37m             ^\u001b[0m\n\u001b[1;31mSyntaxError\u001b[0m\u001b[1;31m:\u001b[0m invalid decimal literal\n"
     ]
    }
   ],
   "source": [
    "t = 5 + 88k\n",
    "print(type(t))"
   ]
  },
  {
   "cell_type": "code",
   "execution_count": 11,
   "id": "3b85eaca-a133-4392-807c-cf4acd7876ec",
   "metadata": {},
   "outputs": [
    {
     "name": "stdout",
     "output_type": "stream",
     "text": [
      "<class 'float'>\n"
     ]
    }
   ],
   "source": [
    "print(type(j))"
   ]
  },
  {
   "cell_type": "code",
   "execution_count": 13,
   "id": "04dd12c3-92cb-420b-9d67-4e6b02e25e07",
   "metadata": {},
   "outputs": [
    {
     "name": "stdout",
     "output_type": "stream",
     "text": [
      "<class 'float'>\n"
     ]
    }
   ],
   "source": [
    "t = 5-55j\n",
    "print(type(j))"
   ]
  },
  {
   "cell_type": "code",
   "execution_count": 15,
   "id": "825f03a5-2119-4aec-a230-3303574886db",
   "metadata": {},
   "outputs": [
    {
     "name": "stdout",
     "output_type": "stream",
     "text": [
      "<class 'complex'>\n"
     ]
    }
   ],
   "source": [
    "print(type(t))"
   ]
  },
  {
   "cell_type": "code",
   "execution_count": 17,
   "id": "468c8119-8cad-4811-a07c-8efe5b41a3bd",
   "metadata": {},
   "outputs": [
    {
     "name": "stdout",
     "output_type": "stream",
     "text": [
      "<class 'list'>\n"
     ]
    }
   ],
   "source": [
    "A = [\"Arun\",\"akhil\",\"ramesh\"]\n",
    "print(type(A))"
   ]
  },
  {
   "cell_type": "code",
   "execution_count": 19,
   "id": "42f2e900-0696-4b2d-bc2e-002f55ff4e0a",
   "metadata": {},
   "outputs": [
    {
     "name": "stdout",
     "output_type": "stream",
     "text": [
      "akhil\n"
     ]
    }
   ],
   "source": [
    "print(A[1])"
   ]
  },
  {
   "cell_type": "code",
   "execution_count": 21,
   "id": "3968e3f5-c766-4d2d-b1ee-4ca149e58274",
   "metadata": {},
   "outputs": [
    {
     "name": "stdout",
     "output_type": "stream",
     "text": [
      "Arun\n"
     ]
    }
   ],
   "source": [
    "print(A[0])"
   ]
  },
  {
   "cell_type": "code",
   "execution_count": null,
   "id": "7f5d5bda-1ec9-413b-b0c2-3bedbd9589d7",
   "metadata": {},
   "outputs": [],
   "source": []
  },
  {
   "cell_type": "code",
   "execution_count": null,
   "id": "5ce504db-9233-4d27-a958-130a247cb011",
   "metadata": {},
   "outputs": [],
   "source": []
  },
  {
   "cell_type": "markdown",
   "id": "7a5dc113-fd75-48a2-a644-19043fa5c0a8",
   "metadata": {},
   "source": [
    " # Task - 2 "
   ]
  },
  {
   "cell_type": "markdown",
   "id": "2011ad0a-0629-430f-b5d0-4815b603b55e",
   "metadata": {},
   "source": [
    "# 1) Explain About Variables ?\n",
    "# 2) Rules of Variables ?\n",
    "# 3) Types of Variables ?\n",
    "# 4) 10 Examples of each and Every Types ?\n",
    "# 5) you Need to Print and Identify the Types ?"
   ]
  },
  {
   "cell_type": "code",
   "execution_count": null,
   "id": "ea1b16bf-318e-4ec3-9ea9-30a4ea7cae94",
   "metadata": {},
   "outputs": [],
   "source": []
  },
  {
   "cell_type": "markdown",
   "id": "28d33d27-8577-49ad-83a6-ca49957f6a70",
   "metadata": {},
   "source": [
    " # 1) Explain About Variables ?\n",
    "- Python variables are simply containers for storing data values.\n",
    "- Variable is a name which is used to refer Memory Allocation.\n",
    "- Variable names can be a group of both the letters and digits But they have to begin    with a letter or an underscore."
   ]
  },
  {
   "cell_type": "code",
   "execution_count": 7,
   "id": "f41ca337-7447-4ed7-9521-f3750916fe5f",
   "metadata": {},
   "outputs": [
    {
     "name": "stdout",
     "output_type": "stream",
     "text": [
      "100\n",
      "200\n"
     ]
    }
   ],
   "source": [
    "arun = 100\n",
    "akhil = 200\n",
    "print(arun)\n",
    "print(akhil)\n"
   ]
  },
  {
   "cell_type": "markdown",
   "id": "439346fe-1315-4581-ac1d-58a6fb4621a3",
   "metadata": {},
   "source": [
    "# 2) Rules of Variables ?\n",
    " - variables can be written in alpha-numeric structure\n",
    " - varaible can't start with special characters except underscore\n",
    " - varaible can't start with digits \n",
    " - varaible can't start with keywords\n",
    " - this are case sensitive\n"
   ]
  },
  {
   "cell_type": "markdown",
   "id": "bcce385b-df61-4732-93ad-ea33a7a92025",
   "metadata": {},
   "source": [
    "# 3) Types of Variables ?\n",
    "- There are 2 types of variables they are.\n",
    "  ### Types.\n",
    "- Single Variable.\n",
    "- Multiple Varible.\n",
    "  - multiple Variable is calssified in 2 Types.\n",
    "     - Multi*Multi.\n",
    "     - Multi*One.\n",
    "  "
   ]
  },
  {
   "cell_type": "code",
   "execution_count": 26,
   "id": "cf09af0f-05ab-493c-8d6e-a258077c1b87",
   "metadata": {},
   "outputs": [
    {
     "name": "stdout",
     "output_type": "stream",
     "text": [
      "100\n",
      "101\n",
      "102\n",
      "100 101 102\n"
     ]
    }
   ],
   "source": [
    "# Single varible Example\n",
    "Lenova = 100\n",
    "Apple = 101\n",
    "Microsoft = 102\n",
    "print(Lenova)\n",
    "print(Apple)\n",
    "print(Microsoft)\n",
    "print(Lenova,Apple,Microsoft)"
   ]
  },
  {
   "cell_type": "code",
   "execution_count": 29,
   "id": "b5b7ee90-120a-4596-bd6c-181e0af5c3b3",
   "metadata": {},
   "outputs": [
    {
     "name": "stdout",
     "output_type": "stream",
     "text": [
      "9\n",
      "99\n",
      "999\n",
      "9 99 999\n"
     ]
    }
   ],
   "source": [
    " # Multiple * Multiple\n",
    "A,B,C = 9,99,999\n",
    "print(A)\n",
    "print(B)\n",
    "print(C)\n",
    "print(A,B,C)"
   ]
  },
  {
   "cell_type": "code",
   "execution_count": 35,
   "id": "7d2fee3f-f5bc-4534-a3f1-54dfe1379060",
   "metadata": {},
   "outputs": [
    {
     "name": "stdout",
     "output_type": "stream",
     "text": [
      "0\n",
      "0\n",
      "0\n",
      "0 0 0\n"
     ]
    }
   ],
   "source": [
    "Arun,Varun,Tharun = 0,00,000\n",
    "print(Arun)\n",
    "print(Varun)\n",
    "print(Tharun)\n",
    "print(Arun,Varun,Tharun)"
   ]
  },
  {
   "cell_type": "code",
   "execution_count": 60,
   "id": "4a645073-4b14-4783-bb46-965ac3f91af2",
   "metadata": {},
   "outputs": [
    {
     "name": "stdout",
     "output_type": "stream",
     "text": [
      "Age of 22\n",
      "Age of 22\n",
      "Age of 23\n",
      "Age of 24\n",
      "Age of 20\n",
      "Age of 23\n",
      "Age of 26\n"
     ]
    }
   ],
   "source": [
    "# 4) 10 Examples of each and Every Types ?\n",
    " ##SingleVerible\n",
    "arun = 22\n",
    "jagadesh = 22\n",
    "shameer = 23\n",
    "salman = 24\n",
    "rushi = 20\n",
    "vijay = 23\n",
    "hemanth = 26\n",
    "print(\"Age of\",arun)\n",
    "print(\"Age of\",jagadesh)\n",
    "print(\"Age of\",shameer)\n",
    "print(\"Age of\",salman)\n",
    "print(\"Age of\",rushi)\n",
    "print(\"Age of\",vijay)\n",
    "print(\"Age of\",hemanth)"
   ]
  },
  {
   "cell_type": "code",
   "execution_count": 62,
   "id": "c5f9c719-c8cf-4936-93ed-00830b20ff51",
   "metadata": {},
   "outputs": [
    {
     "name": "stdout",
     "output_type": "stream",
     "text": [
      "49000\n",
      "99999\n",
      "199999\n"
     ]
    }
   ],
   "source": [
    "## Milti * Multi\n",
    "A,B,C = 1,2,3\n",
    "lenova,apple,microsoft = 49000,99999,199999\n",
    "nifty,sensex,Banknifty = 26178,61153,53834\n",
    "print(lenova)\n",
    "print(apple)\n",
    "print(microsoft)\n"
   ]
  },
  {
   "cell_type": "code",
   "execution_count": 64,
   "id": "93803795-573b-4c63-949b-7c16054e4def",
   "metadata": {},
   "outputs": [
    {
     "name": "stdout",
     "output_type": "stream",
     "text": [
      "26178\n"
     ]
    }
   ],
   "source": [
    "print(nifty)"
   ]
  },
  {
   "cell_type": "code",
   "execution_count": 66,
   "id": "c6b8b571-3408-4829-8e90-e882cb80d591",
   "metadata": {},
   "outputs": [
    {
     "name": "stdout",
     "output_type": "stream",
     "text": [
      "53834\n"
     ]
    }
   ],
   "source": [
    "print(Banknifty)"
   ]
  },
  {
   "cell_type": "code",
   "execution_count": 68,
   "id": "468bbcd7-34a6-451e-b2ad-bfd4937c405f",
   "metadata": {},
   "outputs": [
    {
     "name": "stdout",
     "output_type": "stream",
     "text": [
      "61153\n"
     ]
    }
   ],
   "source": [
    "print(sensex)"
   ]
  },
  {
   "cell_type": "code",
   "execution_count": 70,
   "id": "d08cf42a-0df4-47c7-9cfa-85b9c61d4a4a",
   "metadata": {},
   "outputs": [],
   "source": [
    " ## multi * one\n",
    "\n",
    "Arun=Akhil=Nikil=999"
   ]
  },
  {
   "cell_type": "code",
   "execution_count": 72,
   "id": "6eff1359-9860-4b50-9bf7-7f1e1a740758",
   "metadata": {},
   "outputs": [
    {
     "name": "stdout",
     "output_type": "stream",
     "text": [
      "999\n"
     ]
    }
   ],
   "source": [
    "print(Arun)"
   ]
  },
  {
   "cell_type": "code",
   "execution_count": 74,
   "id": "19d36e8e-00f4-40ff-a383-8f7e7ce65584",
   "metadata": {},
   "outputs": [
    {
     "name": "stdout",
     "output_type": "stream",
     "text": [
      "999\n"
     ]
    }
   ],
   "source": [
    "print(Akhil)"
   ]
  },
  {
   "cell_type": "code",
   "execution_count": 76,
   "id": "c1bbdc1d-4729-44af-9d40-1fb9c9b8559f",
   "metadata": {},
   "outputs": [
    {
     "name": "stdout",
     "output_type": "stream",
     "text": [
      "999\n"
     ]
    }
   ],
   "source": [
    "print(Nikil)"
   ]
  },
  {
   "cell_type": "code",
   "execution_count": 78,
   "id": "79904b0c-a79f-417b-8e6b-ff729fc21911",
   "metadata": {},
   "outputs": [],
   "source": [
    "## one * multi\n",
    "A = 120,130,140\n"
   ]
  },
  {
   "cell_type": "code",
   "execution_count": 80,
   "id": "2d5e3e84-8198-46a3-91b7-a05b8d41f19c",
   "metadata": {},
   "outputs": [
    {
     "name": "stdout",
     "output_type": "stream",
     "text": [
      "120\n"
     ]
    }
   ],
   "source": [
    "print(A[0])"
   ]
  },
  {
   "cell_type": "code",
   "execution_count": 82,
   "id": "69e42a8f-3e36-453a-8952-719290e1b1af",
   "metadata": {},
   "outputs": [
    {
     "name": "stdout",
     "output_type": "stream",
     "text": [
      "130\n"
     ]
    }
   ],
   "source": [
    "print(A[1])"
   ]
  },
  {
   "cell_type": "code",
   "execution_count": 84,
   "id": "e7bf7118-ca36-432f-8967-55601148e146",
   "metadata": {},
   "outputs": [
    {
     "name": "stdout",
     "output_type": "stream",
     "text": [
      "[2]\n"
     ]
    }
   ],
   "source": [
    "print([2])"
   ]
  },
  {
   "cell_type": "markdown",
   "id": "435fca73-a0fe-40c6-89a0-dc78dfca6563",
   "metadata": {},
   "source": [
    "# 5) you Need to Print and Identify the Types ?\n",
    " -print and Identify the Variable type.\n",
    " "
   ]
  },
  {
   "cell_type": "code",
   "execution_count": 91,
   "id": "4b9f339e-21cd-4998-8154-1cde6f1788bc",
   "metadata": {},
   "outputs": [
    {
     "name": "stdout",
     "output_type": "stream",
     "text": [
      "49000\n",
      "99999\n"
     ]
    }
   ],
   "source": [
    "lenova,apple,microsoft = 49000,99999,199999\n",
    "nifty,sensex,Banknifty = 26178,61153,53834\n",
    "print(lenova)\n",
    "print(apple)"
   ]
  },
  {
   "cell_type": "code",
   "execution_count": null,
   "id": "87c743eb-78f1-4d45-95ac-0c0bd1f820c6",
   "metadata": {},
   "outputs": [],
   "source": [
    "print(type(variable))"
   ]
  }
 ],
 "metadata": {
  "kernelspec": {
   "display_name": "Python 3 (ipykernel)",
   "language": "python",
   "name": "python3"
  },
  "language_info": {
   "codemirror_mode": {
    "name": "ipython",
    "version": 3
   },
   "file_extension": ".py",
   "mimetype": "text/x-python",
   "name": "python",
   "nbconvert_exporter": "python",
   "pygments_lexer": "ipython3",
   "version": "3.12.4"
  }
 },
 "nbformat": 4,
 "nbformat_minor": 5
}
