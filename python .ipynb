{
 "cells": [
  {
   "cell_type": "code",
   "execution_count": null,
   "id": "68e6d880-af26-4f79-b6da-d79d8a9ada9b",
   "metadata": {},
   "outputs": [],
   "source": [
    "import keyword\n",
    "Arun = keyword.kwlist\n",
    "print(Arun)\n",
    "len(Arun)\n"
   ]
  },
  {
   "cell_type": "markdown",
   "id": "3a361f16-84da-4e99-b231-a6d3a2c2de70",
   "metadata": {},
   "source": [
    "# Task-1.\n",
    "# 1) What is Python ?\n",
    "# 2) History of Python ?\n",
    "# 3) Why we need to use Python ?\n",
    "# 4) Applications of Python ?\n",
    "# 5) Explain about Keywords and implement ?\n",
    "# 6) Explain about comments and Explain ?\n",
    "# 7) Explain indetail about Variable with Examples And Rules ?\n"
   ]
  },
  {
   "cell_type": "markdown",
   "id": "e243c4dc-1b03-4f5e-a856-52f11f21154a",
   "metadata": {},
   "source": [
    "# 1) What is Python ?\n",
    "\n",
    "   - Python is a computer programming Language Which iss used to build Websites.\n",
    "   - Python is an interpreted, interactive, object-oriented programming language.\n",
    "   - Python is a scripting language,high level programming language. "
   ]
  },
  {
   "cell_type": "code",
   "execution_count": 7,
   "id": "1e1e27f9-995d-4beb-88e2-fa4c54066d7b",
   "metadata": {},
   "outputs": [
    {
     "name": "stdout",
     "output_type": "stream",
     "text": [
      "python\n"
     ]
    }
   ],
   "source": [
    "print(\"python\")"
   ]
  },
  {
   "cell_type": "markdown",
   "id": "f703cf2e-f582-458f-b84d-c3d767b882f4",
   "metadata": {},
   "source": [
    "# 2) History of Python ?\n",
    "\n",
    "  - Python is a widely used general-purpose, high-level programming language. It was           initially designed by Guido van Rossum in 1991 and developed by Python Software            Foundation. It was mainly developed to emphasize code readability, and its syntax          allows programmers to express concepts in fewer lines of code.\n",
    "  - \n",
    "  versions List\n",
    "------------------\n",
    "\r\n",
    "Release version                          Release date\r\n",
    "Python 3.11.10                          Sept. 7, 2024  \r\n",
    "Python 3.10.15                          Sept. 7, 2024 \r\n",
    "Python 3.12.6                           Sept. 6, 2024  \r\n",
    "Python 3.9.20                           Sept. 6, 2024  \r\n",
    "Python 3.8.20                           Sept. 6, 2024  \r\n",
    "Python 3.12.5                           Aug. 6, 2024  \r\n",
    "Python 3.12.4                           june 6 , 2024      \r\n",
    "Python 3.12.3                           April 9, 2024  \r\n",
    "Python 3.11.9                           April 2, 2024  \r\n",
    "Python 3.10.14                          March 19, 2024  \r\n",
    "Python 3.9.19                           March 19, 2024  \r\n",
    "Python 3.8.19                           March 19, 2024  \r\n",
    "Python 3.11.8                           Feb. 6, 2024  \r\n",
    "Python 3.12.2                           Feb. 6, 2024  \r\n",
    "Python 3.12.1                           Dec. 8, 2023  \r\n",
    "Python 3.11.7                           Dec. 4, 2023  \r\n",
    "Python 3.12.0                           Oct. 2, 2023  \r\n",
    "Python 3.11.6                           Oct. 2, 2023  \r\n",
    "Python 3.11.5                          Aug. 24, 2023  \r\n",
    "Python 3.10.13                         Aug. 24, 2023  -03\t2020-01-01"
   ]
  },
  {
   "cell_type": "markdown",
   "id": "b6943b74-e252-4ac3-871f-694e93d1afdb",
   "metadata": {},
   "source": [
    "# 3) Why we need to use Python ?\n",
    "\n",
    "-Python has been adopted by many non-programmers, such as accountants and scientists, for a variety of everyday tasks, like organising finances\n",
    "-Python is commonly used for developing websites and software, task automation, data analysis, and data visualisation\n",
    "        easy to learn\n",
    "-Python has a large and active community, which means plenty of resources, libraries, and frameworks are available\n",
    "-Python is great for scripting and automation tasks, helping to streamline workflows and increase productivity.\n"
   ]
  },
  {
   "cell_type": "markdown",
   "id": "37190ccf-cd7f-4c1b-9eb1-28e2c42e5630",
   "metadata": {},
   "source": [
    "# 4) Applications of Python ?\n",
    "\n",
    "   -Operating Systems.\n",
    "   -Web and Internet Development.\n",
    "   -Game Development.\n",
    "   -Scientific and Numeric Computing.\n",
    "   -Artificial Intelligence and Machine Learning.\n",
    "   -Desktop GUI.\n",
    "   -Business Applications. \n",
    "   -Console-based Application"
   ]
  },
  {
   "cell_type": "markdown",
   "id": "dcc5ba5c-6076-4425-8294-955c1e4a9c1c",
   "metadata": {},
   "source": [
    "# 5) Explain about Keywords and implement ?\n",
    "\n",
    "   -Python has a set of keywords that are reserved words that\n",
    "    cannot be used as variable names, function names, or any other\n",
    "    identifiers"
   ]
  },
  {
   "cell_type": "code",
   "execution_count": 21,
   "id": "388c5153-d29b-42cc-967c-bc7097e3695b",
   "metadata": {},
   "outputs": [
    {
     "name": "stdout",
     "output_type": "stream",
     "text": [
      "['False', 'None', 'True', 'and', 'as', 'assert', 'async', 'await', 'break', 'class', 'continue', 'def', 'del', 'elif', 'else', 'except', 'finally', 'for', 'from', 'global', 'if', 'import', 'in', 'is', 'lambda', 'nonlocal', 'not', 'or', 'pass', 'raise', 'return', 'try', 'while', 'with', 'yield']\n"
     ]
    },
    {
     "data": {
      "text/plain": [
       "35"
      ]
     },
     "execution_count": 21,
     "metadata": {},
     "output_type": "execute_result"
    }
   ],
   "source": [
    "import keyword\n",
    "Arun = keyword.kwlist\n",
    "print(Arun)\n",
    "len(Arun)"
   ]
  },
  {
   "cell_type": "markdown",
   "id": "5f24e4d1-fae6-43c6-8cd7-34fbd9e909b1",
   "metadata": {},
   "source": [
    "# 6) Explain about comments and Explain ?\n",
    "e   -d For?\r\n",
    "Comments in Python are identified with a hash symbol, #, and extend to the end      of the line. Hash characters in a string are not considered comments, however. Th         ere are three ways to write a comment - as a separate line, beside the corresponding st     atement of code, or as a multi-line comment    - block.\r\n",
    "\r\n",
    "There are multiple uses of writing comments in Python. Some significant uses      - include:\r\n",
    "\r\n",
    "Increasing      -readability\r\n",
    "Explaining the co      -de to others\r\n",
    "Understanding the code easily afte     -r a long-term\r\n",
    "Incl\n",
    "uding resources"
   ]
  },
  {
   "cell_type": "markdown",
   "id": "910d108f-2e86-440e-9752-e57b6cf54d13",
   "metadata": {},
   "source": [
    "# 7) Explain indetail about Variable with Examples And Rules?\n",
    "\n",
    " -Python Variable is containers that store values. Python is not “statically typed”.\n",
    "    We do not need to declare variables before using them or declare their type.\n",
    "    A variable is created the moment we first assign a value to it. \n",
    "    A Python variable is a name given to a memory location. \n",
    "    It is the basic unit of storage in a program\n",
    "    \n",
    "  # Rules-\n",
    "\n",
    " -variables can be written in alpha-numeric structure\n",
    " -varaible can't start with special characters except underscore\n",
    " -varaible can't start with digits \n",
    " -varaible can't start with keywords\n",
    " -this are case sensitive\n",
    "\n",
    "\n",
    "  "
   ]
  },
  {
   "cell_type": "code",
   "execution_count": 31,
   "id": "7c8c7a45-9cf1-4364-92ca-f1b0fd3bb0ec",
   "metadata": {},
   "outputs": [
    {
     "name": "stdout",
     "output_type": "stream",
     "text": [
      "100\n"
     ]
    }
   ],
   "source": [
    "a = 10\n",
    "b = 50\n",
    "c = 40\n",
    "d = (a+b+c)\n",
    "print(d)"
   ]
  }
 ],
 "metadata": {
  "kernelspec": {
   "display_name": "Python 3 (ipykernel)",
   "language": "python",
   "name": "python3"
  },
  "language_info": {
   "codemirror_mode": {
    "name": "ipython",
    "version": 3
   },
   "file_extension": ".py",
   "mimetype": "text/x-python",
   "name": "python",
   "nbconvert_exporter": "python",
   "pygments_lexer": "ipython3",
   "version": "3.12.4"
  }
 },
 "nbformat": 4,
 "nbformat_minor": 5
}
