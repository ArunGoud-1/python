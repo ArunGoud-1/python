{
 "cells": [
  {
   "cell_type": "code",
   "execution_count": null,
   "id": "00dbd425-cd6d-4d1a-887d-3bd45d6ffe20",
   "metadata": {},
   "outputs": [],
   "source": []
  },
  {
   "cell_type": "markdown",
   "id": "91294fa4-e79d-4c52-b537-bf2a1556d987",
   "metadata": {},
   "source": [
    "##  Functions :"
   ]
  },
  {
   "cell_type": "markdown",
   "id": "b9633c2f-91cc-49b7-8cce-58ef1eb46a37",
   "metadata": {},
   "source": [
    "- Python Functions is a block of statements that return the specific task.\n",
    "- The idea is to put some commonly or repeatedly done tasks together.\n",
    "- instead of writing the same code again and again for different inputs, we call the function with different outputs."
   ]
  },
  {
   "cell_type": "markdown",
   "id": "7e270581-c4f7-43d7-a5db-3a0971a8f274",
   "metadata": {},
   "source": [
    "- There are two types of functions in python :\n",
    "     - Bultin functions.\n",
    "     - User defined function."
   ]
  },
  {
   "cell_type": "markdown",
   "id": "97372a99-ef1a-412f-9d97-9d05654edf6a",
   "metadata": {},
   "source": [
    "###  Bult-in Function ."
   ]
  },
  {
   "cell_type": "markdown",
   "id": "7709eed0-7006-4f39-bfdc-bbd0299a7ae4",
   "metadata": {},
   "source": [
    "- The built-in Python functions are pre-defined by the python interpreter.\n",
    "- These functions perform a specific task and can be used in any program, depending on the requirement of the user.\n",
    "- There are 68 built-in python functions."
   ]
  },
  {
   "cell_type": "markdown",
   "id": "fa0cc302-57f7-42a0-9590-3ad12ccd6860",
   "metadata": {},
   "source": [
    "## User-Defined Function."
   ]
  },
  {
   "cell_type": "markdown",
   "id": "36664fb0-9923-41e8-8e8f-09c90f46ca4d",
   "metadata": {},
   "source": [
    "- A user-defined function in Python is a function that a user create yourself to perform a specific task.\n",
    "- hese functions are defined using the def keyword."
   ]
  },
  {
   "cell_type": "code",
   "execution_count": null,
   "id": "b2c51f0c-9033-4a6a-814a-0af252e3b0ec",
   "metadata": {},
   "outputs": [],
   "source": []
  },
  {
   "cell_type": "markdown",
   "id": "737c26f6-8d38-4dc9-8865-33025dcff7df",
   "metadata": {},
   "source": [
    "###  Example :"
   ]
  },
  {
   "cell_type": "code",
   "execution_count": null,
   "id": "109b182c-a1f7-4f43-b379-24245d0b1695",
   "metadata": {},
   "outputs": [],
   "source": []
  },
  {
   "cell_type": "code",
   "execution_count": 1,
   "id": "1f60a7d4-ea28-45a3-9219-325d49e6e1f9",
   "metadata": {},
   "outputs": [],
   "source": [
    "def lenova(name,ram):\n",
    "    print(f\"laptop name is {name} and the ram i want is {ram}\")"
   ]
  },
  {
   "cell_type": "code",
   "execution_count": 3,
   "id": "ead0f090-c91e-471a-abd0-55d12e97fc07",
   "metadata": {},
   "outputs": [
    {
     "name": "stdout",
     "output_type": "stream",
     "text": [
      "laptop name is dell and the ram i want is 16\n"
     ]
    }
   ],
   "source": [
    "lenova(\"dell\",16)"
   ]
  },
  {
   "cell_type": "code",
   "execution_count": 9,
   "id": "dd0ddfd0-9c40-492d-ba80-6dd4893a0fbe",
   "metadata": {},
   "outputs": [
    {
     "name": "stdout",
     "output_type": "stream",
     "text": [
      "laptop name is macbook and the ram i want is 8\n"
     ]
    }
   ],
   "source": [
    "lenova(\"macbook\",8)"
   ]
  },
  {
   "cell_type": "code",
   "execution_count": null,
   "id": "1d116864-8ff3-4c8f-adf3-d3da96638833",
   "metadata": {},
   "outputs": [],
   "source": []
  },
  {
   "cell_type": "code",
   "execution_count": null,
   "id": "0f6f5829-cd82-417a-b543-ef55aadfa0b2",
   "metadata": {},
   "outputs": [],
   "source": []
  },
  {
   "cell_type": "code",
   "execution_count": 41,
   "id": "5f464502-10bf-4b03-a650-c56358a4f590",
   "metadata": {},
   "outputs": [],
   "source": [
    "def coustomer(bike):\n",
    "    s = ['Activa','interceptor','benili','ducati','kawasaki','bmw']\n",
    "    if(bike in s):\n",
    "        print(f\" yes we have the {bike}\")\n",
    "    else:\n",
    "        print(f\"Sorry we dont have {bike}\")"
   ]
  },
  {
   "cell_type": "code",
   "execution_count": 49,
   "id": "9482f3bf-ffce-4956-880c-b9dbac57d40b",
   "metadata": {},
   "outputs": [
    {
     "name": "stdout",
     "output_type": "stream",
     "text": [
      " yes we have the bmw\n"
     ]
    }
   ],
   "source": [
    "coustomer('bmw')"
   ]
  },
  {
   "cell_type": "code",
   "execution_count": 37,
   "id": "34743c6b-5edf-4f3e-9e34-e29278602166",
   "metadata": {},
   "outputs": [],
   "source": []
  },
  {
   "cell_type": "code",
   "execution_count": 5,
   "id": "d1382078-d214-48ad-9cc5-98bae487dcb4",
   "metadata": {},
   "outputs": [
    {
     "name": "stdout",
     "output_type": "stream",
     "text": [
      "Welcome to Our TEKS SHOWROOM\n",
      "WHAT BIKE YOU WANT SIR\n"
     ]
    }
   ],
   "source": [
    "print(\"Welcome to Our TEKS SHOWROOM\")\n",
    "print(\"WHAT BIKE YOU WANT SIR\")\n",
    "def show(bike):\n",
    "    s = ['activa','interceptor','benili','ducati','kawasaki','bmw']\n",
    "    if(bike in s):\n",
    "        print(f\" yes we have the {bike}\")\n",
    "        print(f\"We have model{bike} model of {a}\")\n",
    "        print(f\"Which mode of {bike} you want sir :\")\n",
    "    else:\n",
    "        print(f\"sorry sir we dont have {bike}\")\n",
    "a = ['2019','2020','2022','2023','2024','2025']\n",
    "def model(year):\n",
    "    if year in a:\n",
    "        print(f\"yes we have the {year} sir\")\n",
    "        print(f\"THANK YOU FOR SHOPING SIR\")\n",
    "        print(f\"VIST AGAIN\")\n",
    "    else:\n",
    "        print(f\"sorry we dont have the {year} model\")"
   ]
  },
  {
   "cell_type": "code",
   "execution_count": 7,
   "id": "efaabef5-311f-443c-adf0-afd323dcf0fc",
   "metadata": {},
   "outputs": [
    {
     "name": "stdout",
     "output_type": "stream",
     "text": [
      " yes we have the activa\n",
      "We have modelactiva model of ['2019', '2020', '2022', '2023', '2024', '2025']\n",
      "Which mode of activa you want sir :\n"
     ]
    }
   ],
   "source": [
    "show('activa')"
   ]
  },
  {
   "cell_type": "code",
   "execution_count": 9,
   "id": "7e2440ba-61e2-4564-a30c-8f335aaa1969",
   "metadata": {},
   "outputs": [
    {
     "name": "stdout",
     "output_type": "stream",
     "text": [
      "yes we have the 2024 sir\n",
      "THANK YOU FOR SHOPING SIR\n",
      "VIST AGAIN\n"
     ]
    }
   ],
   "source": [
    "model('2024')"
   ]
  },
  {
   "cell_type": "code",
   "execution_count": null,
   "id": "c8a91140-d447-45d6-b238-dcc118f6cfd2",
   "metadata": {},
   "outputs": [],
   "source": []
  }
 ],
 "metadata": {
  "kernelspec": {
   "display_name": "Python 3 (ipykernel)",
   "language": "python",
   "name": "python3"
  },
  "language_info": {
   "codemirror_mode": {
    "name": "ipython",
    "version": 3
   },
   "file_extension": ".py",
   "mimetype": "text/x-python",
   "name": "python",
   "nbconvert_exporter": "python",
   "pygments_lexer": "ipython3",
   "version": "3.12.4"
  }
 },
 "nbformat": 4,
 "nbformat_minor": 5
}
