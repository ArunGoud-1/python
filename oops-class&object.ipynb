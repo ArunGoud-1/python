{
 "cells": [
  {
   "cell_type": "code",
   "execution_count": null,
   "id": "4be4c5e1-d30b-4e04-83a5-1f2baa4c5e47",
   "metadata": {},
   "outputs": [],
   "source": []
  },
  {
   "cell_type": "code",
   "execution_count": 23,
   "id": "81aa6a0c-a33a-46b7-aae5-b4aa6061d2f4",
   "metadata": {},
   "outputs": [],
   "source": [
    "class Hospital:\n",
    "    def __init__(icu, patientname, disease):\n",
    "        icu.patientname = patientname\n",
    "        icu.disease = disease\n",
    "    \n",
    "    def prescription(icu):\n",
    "        print(\"nuvu ipoyavvv\")"
   ]
  },
  {
   "cell_type": "code",
   "execution_count": 19,
   "id": "53f357a1-c6c9-4bf7-885c-9d1a94755180",
   "metadata": {},
   "outputs": [],
   "source": [
    "patient = Hospital(\"Riyaaa\", \"memory\")"
   ]
  },
  {
   "cell_type": "code",
   "execution_count": 25,
   "id": "171e195f-b487-4b4d-9e1e-f78b86c26ee6",
   "metadata": {},
   "outputs": [
    {
     "name": "stdout",
     "output_type": "stream",
     "text": [
      " nuvu ipoyavvvv\n"
     ]
    }
   ],
   "source": [
    "patient.prescription()"
   ]
  },
  {
   "cell_type": "code",
   "execution_count": 39,
   "id": "63a72e2e-9275-47ed-912d-585e81b0fa54",
   "metadata": {},
   "outputs": [
    {
     "name": "stdout",
     "output_type": "stream",
     "text": [
      "My name is Riyaaa and i am suffering from memory\n"
     ]
    }
   ],
   "source": [
    "print(f\"My name is {patient.patientname} and i am suffering from {patient.disease}\")"
   ]
  },
  {
   "cell_type": "code",
   "execution_count": null,
   "id": "eef9f9cd-f11d-4883-959e-e40c975e1a26",
   "metadata": {},
   "outputs": [],
   "source": []
  },
  {
   "cell_type": "code",
   "execution_count": null,
   "id": "ac673822-62c9-4669-b8b9-e2589b7e6ec0",
   "metadata": {},
   "outputs": [],
   "source": []
  },
  {
   "cell_type": "code",
   "execution_count": 27,
   "id": "88d1211f-7288-483d-a1ef-0afea9333d63",
   "metadata": {},
   "outputs": [],
   "source": [
    "class transport:\n",
    "    def __init__(road, vechile_type, vechile_brand):\n",
    "        road.vechile_type = vechile_type\n",
    "        road.vechile_brand = vechile_brand\n",
    "\n",
    "    def roadways(road):\n",
    "        print(\" mellaga vellu\")"
   ]
  },
  {
   "cell_type": "code",
   "execution_count": 29,
   "id": "12e5dbd1-27f7-4b1e-b85b-dfa5f2bf017c",
   "metadata": {},
   "outputs": [],
   "source": [
    "BMW = transport(\"Car\",\"BMW\")"
   ]
  },
  {
   "cell_type": "code",
   "execution_count": 33,
   "id": "35ca5f64-89f9-426d-83f8-b142f430a289",
   "metadata": {},
   "outputs": [
    {
     "name": "stdout",
     "output_type": "stream",
     "text": [
      " mellaga vellu\n"
     ]
    }
   ],
   "source": [
    "BMW.roadways()"
   ]
  },
  {
   "cell_type": "code",
   "execution_count": 47,
   "id": "1f9e8e58-9e62-40c7-9c46-c0f92931894f",
   "metadata": {},
   "outputs": [
    {
     "name": "stdout",
     "output_type": "stream",
     "text": [
      "My vechile is Car and it is from BMW 's Brand\n"
     ]
    }
   ],
   "source": [
    "print(f\"My vechile is {BMW.vechile_type} and it is from {BMW.vechile_brand} 's Brand\")"
   ]
  },
  {
   "cell_type": "code",
   "execution_count": null,
   "id": "fec1db31-4008-4ec7-8b4e-a6cc160a4177",
   "metadata": {},
   "outputs": [],
   "source": []
  },
  {
   "cell_type": "code",
   "execution_count": null,
   "id": "0ca879af-45a2-4d90-82a3-09424d7b9565",
   "metadata": {},
   "outputs": [],
   "source": []
  },
  {
   "cell_type": "code",
   "execution_count": 57,
   "id": "e5828c25-62a7-4266-86f6-7253899bcba1",
   "metadata": {},
   "outputs": [],
   "source": [
    "class Financial:\n",
    "    def __init__(bank, bank_name, bank_code):\n",
    "        bank.bank_name = bank_name\n",
    "        bank.bank_code = bank_code\n",
    "\n",
    "    def cash(Arun):\n",
    "        print(f\"Bank Name : {bank.bank_name}, Bank Code : {bank.bank_code}\")"
   ]
  },
  {
   "cell_type": "code",
   "execution_count": 59,
   "id": "8c58ddd4-310a-4839-9616-ccb7c3a0c1ab",
   "metadata": {},
   "outputs": [],
   "source": [
    "bank = Financial(\"SBI\", \"SBI143\")"
   ]
  },
  {
   "cell_type": "code",
   "execution_count": 63,
   "id": "09200d50-5f06-4165-88ca-71bdc420e82c",
   "metadata": {},
   "outputs": [
    {
     "name": "stdout",
     "output_type": "stream",
     "text": [
      "Bank Name : SBI, Bank Code : SBI143\n"
     ]
    }
   ],
   "source": [
    "bank.cash()"
   ]
  },
  {
   "cell_type": "code",
   "execution_count": null,
   "id": "12c58135-fdfe-41a8-87c6-9cd940711db2",
   "metadata": {},
   "outputs": [],
   "source": []
  },
  {
   "cell_type": "code",
   "execution_count": 61,
   "id": "414667cf-76f9-4401-9e98-6fdbfbfe4f91",
   "metadata": {},
   "outputs": [],
   "source": [
    "class Telecom:\n",
    "    def __init__(s, sim_brand, cost_recharge):\n",
    "        s.sim_brand = sim_brand\n",
    "        s.cost_recharge = cost_recharge\n",
    "    def signel(sitara):\n",
    "        print(f\"name of the Comunication is {sitara.sim_brand} and can cost you  {sitara.cost_recharge} to recharge\")"
   ]
  },
  {
   "cell_type": "code",
   "execution_count": 63,
   "id": "24c870ca-1300-4259-881e-9709a17fa868",
   "metadata": {},
   "outputs": [],
   "source": [
    "t=Telecom(\"Airtel\",\"399\")"
   ]
  },
  {
   "cell_type": "code",
   "execution_count": 65,
   "id": "3de66aaa-76d6-42b2-b39e-02889b79e5f6",
   "metadata": {},
   "outputs": [
    {
     "name": "stdout",
     "output_type": "stream",
     "text": [
      "name of the Comunication is Airtel and can cost you  399 to recharge\n"
     ]
    }
   ],
   "source": [
    "t.signel()"
   ]
  },
  {
   "cell_type": "code",
   "execution_count": null,
   "id": "d4d2dfd2-0199-43b5-95f5-f45958d8b5e2",
   "metadata": {},
   "outputs": [],
   "source": []
  },
  {
   "cell_type": "code",
   "execution_count": 13,
   "id": "e1eaf932-3850-40f4-8a66-f12f3d6f5e36",
   "metadata": {},
   "outputs": [],
   "source": [
    "class Education:\n",
    "    def __init__(edu, institute_name, institute_location):\n",
    "        edu.institute_name = institute_name\n",
    "        edu.institute_location = institute_location\n",
    "\n",
    "    def books(self):\n",
    "        print(f\"Institution name is {self.institute_name} and it is located in {self.institute_location}.\")\n"
   ]
  },
  {
   "cell_type": "code",
   "execution_count": 171,
   "id": "2293eeac-e03b-4db9-9627-0af151de4533",
   "metadata": {},
   "outputs": [],
   "source": [
    "lenova = Education(\"teksaccatamy\", \"hyd\")"
   ]
  },
  {
   "cell_type": "code",
   "execution_count": 173,
   "id": "740096a5-405a-4ffc-977d-eb015bc370b4",
   "metadata": {},
   "outputs": [
    {
     "name": "stdout",
     "output_type": "stream",
     "text": [
      "Institution name is teksaccatamy and it is located in hyd.\n"
     ]
    }
   ],
   "source": [
    "lenova.books()"
   ]
  },
  {
   "cell_type": "code",
   "execution_count": null,
   "id": "ba283f62-985c-4d2f-9f8e-24462a3a5526",
   "metadata": {},
   "outputs": [],
   "source": []
  },
  {
   "cell_type": "code",
   "execution_count": null,
   "id": "0bc5f037-9598-49e3-a925-711f9a3d4a41",
   "metadata": {},
   "outputs": [],
   "source": []
  },
  {
   "cell_type": "code",
   "execution_count": 191,
   "id": "e7bc4e57-cf53-4b13-9b42-1050ed87f695",
   "metadata": {},
   "outputs": [],
   "source": [
    "class Arun:\n",
    "    def __init__(ak,gun_name,no_bullets):\n",
    "        ak.gun_name = gun_name\n",
    "        ak.no_bullets = no_bullets\n",
    "        \n",
    "    def shot(magzine):\n",
    "        print(f\"NAme of the gun is {magzine.gun_name} and it contaians {magzine.no_bullets}\")"
   ]
  },
  {
   "cell_type": "code",
   "execution_count": 193,
   "id": "8a976652-e233-42fb-8051-d1a5e07e6835",
   "metadata": {},
   "outputs": [],
   "source": [
    "akhil = Arun(\"Ak47\",\"140\")"
   ]
  },
  {
   "cell_type": "code",
   "execution_count": 195,
   "id": "16721b6a-58e5-4d37-89c6-32b477c8dc51",
   "metadata": {},
   "outputs": [
    {
     "name": "stdout",
     "output_type": "stream",
     "text": [
      "NAme of the gun is Ak47 and it contaians 140\n"
     ]
    }
   ],
   "source": [
    "akhil.shot()"
   ]
  },
  {
   "cell_type": "code",
   "execution_count": null,
   "id": "c558cdf7-bd29-4995-9330-838b14de6d4b",
   "metadata": {},
   "outputs": [],
   "source": []
  },
  {
   "cell_type": "code",
   "execution_count": null,
   "id": "0e6205e5-1a56-4afd-9b4a-7fb8779c6335",
   "metadata": {},
   "outputs": [],
   "source": []
  },
  {
   "cell_type": "code",
   "execution_count": 121,
   "id": "07115ad6-56aa-494a-8bda-f63ad2d370d1",
   "metadata": {},
   "outputs": [],
   "source": [
    "class Millionaire:\n",
    "    def __init__(ss, millionaire_name, millionaire_networth):\n",
    "        ss.millionaire_name = millionaire_name\n",
    "        ss.millionaire_networth = millionaire_networth\n",
    "\n",
    "    def money(s):\n",
    "        print(f\"{s.millionaire_name} is a millionaire and his net worth is {s.millionaire_networth}.\")\n"
   ]
  },
  {
   "cell_type": "code",
   "execution_count": 127,
   "id": "1cd7436d-da2b-406b-88ad-9fc216d76312",
   "metadata": {},
   "outputs": [],
   "source": [
    "m = Millionaire(\"Ambani\", \"200 rs\")"
   ]
  },
  {
   "cell_type": "code",
   "execution_count": 129,
   "id": "0aeddb38-885f-4d19-a9c9-ac947a8276f4",
   "metadata": {},
   "outputs": [
    {
     "name": "stdout",
     "output_type": "stream",
     "text": [
      "Ambani is a millionaire and his net worth is 200 rs.\n"
     ]
    }
   ],
   "source": [
    "m.money()"
   ]
  },
  {
   "cell_type": "code",
   "execution_count": null,
   "id": "fc594f3c-dbd4-4aef-9865-63f717ab4c00",
   "metadata": {},
   "outputs": [],
   "source": []
  },
  {
   "cell_type": "code",
   "execution_count": null,
   "id": "fbd82caf-1a21-4d42-a889-4c482776356f",
   "metadata": {},
   "outputs": [],
   "source": []
  },
  {
   "cell_type": "code",
   "execution_count": 151,
   "id": "63c2a7e1-78af-467f-a5ea-ab6e733fe086",
   "metadata": {},
   "outputs": [],
   "source": [
    "class members:\n",
    "    def __init__(g,father_name,mother_name,brother_name,my_name):\n",
    "        g.father_name = father_name\n",
    "        g.mother_name = mother_name\n",
    "        g.brother_name = brother_name\n",
    "        g.my_name = my_name\n",
    "    def family(mem):\n",
    "        print(f\"my father name is :{mem.father_name} ,and mother name is :{mem.mother_name} ,and my brother name is :{mem.brother_name}, and my name is :{mem.my_name},this is my famly \")"
   ]
  },
  {
   "cell_type": "code",
   "execution_count": 153,
   "id": "4f247f7d-9a7f-423f-a021-e138aa51087c",
   "metadata": {},
   "outputs": [],
   "source": [
    "fem = members(\"Ramesh\",\"latha\",\"Akhil\",\"Arun\")"
   ]
  },
  {
   "cell_type": "code",
   "execution_count": 155,
   "id": "107d07d8-16e0-4b01-a615-e92caae2a525",
   "metadata": {},
   "outputs": [
    {
     "name": "stdout",
     "output_type": "stream",
     "text": [
      "my father name is :Ramesh ,and mother name is :latha ,and my brother name is :Akhil, and my name is :Arun,this is my famly \n"
     ]
    }
   ],
   "source": [
    "fem.family()"
   ]
  },
  {
   "cell_type": "code",
   "execution_count": null,
   "id": "2c849ee1-ef6c-4094-b396-97ef3a66875a",
   "metadata": {},
   "outputs": [],
   "source": []
  },
  {
   "cell_type": "code",
   "execution_count": null,
   "id": "d0a8a9cd-debc-498a-ac66-a3dddf4ff011",
   "metadata": {},
   "outputs": [],
   "source": []
  },
  {
   "cell_type": "code",
   "execution_count": null,
   "id": "2e77b0c1-8ca8-43b0-8a8c-7cd26818855b",
   "metadata": {},
   "outputs": [],
   "source": []
  },
  {
   "cell_type": "code",
   "execution_count": 157,
   "id": "86aa2c76-1771-4eda-b422-997a8cf8fca4",
   "metadata": {},
   "outputs": [],
   "source": [
    "class Education:\n",
    "    def __init__(edu, institute_name, institute_location):\n",
    "        edu.institute_name = institute_name\n",
    "        edu.institute_location = institute_location\n",
    "\n",
    "    def __str__(self):\n",
    "        return f\"Institution name is {self.institute_name} and it is located in {self.institute_location}.\""
   ]
  },
  {
   "cell_type": "code",
   "execution_count": 159,
   "id": "70b4d842-8b65-43e7-bf37-c17566c13c85",
   "metadata": {},
   "outputs": [],
   "source": [
    "college = Education(\"KITS\",\"khammam\")"
   ]
  },
  {
   "cell_type": "code",
   "execution_count": 161,
   "id": "4ef00e23-32a7-49af-9373-cef43e7c311c",
   "metadata": {},
   "outputs": [
    {
     "name": "stdout",
     "output_type": "stream",
     "text": [
      "Institution name is KITS and it is located in khammam.\n"
     ]
    }
   ],
   "source": [
    "print(college)"
   ]
  },
  {
   "cell_type": "code",
   "execution_count": null,
   "id": "0308e59d-d2e5-4800-a7dc-4c5efcdfc4b0",
   "metadata": {},
   "outputs": [],
   "source": []
  },
  {
   "cell_type": "code",
   "execution_count": null,
   "id": "a5b8d32c-3fc2-432b-921c-59af48253cb1",
   "metadata": {},
   "outputs": [],
   "source": [
    "A = input(\"Enter what brand of laptop u want :\")\n",
    "B = input(\"Enter what configaration you want :\")\n",
    "class Arun:\n",
    "    def __init__(q,A,B):\n",
    "        q.A=A\n",
    "        q.B=B\n",
    "    def __str__(c):\n",
    "        return f\"i want {c.A} laptop with a configaration of {c.B}\"\n",
    "\n",
    "con = Arun(A,B)\n",
    "print(con)"
   ]
  },
  {
   "cell_type": "code",
   "execution_count": null,
   "id": "86d0746b-fecc-4500-8b1f-f9a3a38849ca",
   "metadata": {},
   "outputs": [],
   "source": []
  }
 ],
 "metadata": {
  "kernelspec": {
   "display_name": "Python 3 (ipykernel)",
   "language": "python",
   "name": "python3"
  },
  "language_info": {
   "codemirror_mode": {
    "name": "ipython",
    "version": 3
   },
   "file_extension": ".py",
   "mimetype": "text/x-python",
   "name": "python",
   "nbconvert_exporter": "python",
   "pygments_lexer": "ipython3",
   "version": "3.12.4"
  }
 },
 "nbformat": 4,
 "nbformat_minor": 5
}
