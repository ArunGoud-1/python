{
 "cells": [
  {
   "cell_type": "code",
   "execution_count": null,
   "id": "125e371d-9e47-4f81-a512-bc60ec898bf4",
   "metadata": {},
   "outputs": [],
   "source": [
    "  "
   ]
  },
  {
   "cell_type": "markdown",
   "id": "0ca5863e-9b92-4967-bfdd-a888cac74158",
   "metadata": {},
   "source": [
    "## 1) Difine about List ?\n",
    "## 2) Accesing the List ?\n",
    "## 3) Concation ?\n",
    "## 4) Repeation ?\n",
    "## 5) Types of List Methods?"
   ]
  },
  {
   "cell_type": "code",
   "execution_count": null,
   "id": "73fb1816-71a6-46fc-bf48-f1264e34d0eb",
   "metadata": {},
   "outputs": [],
   "source": []
  },
  {
   "cell_type": "markdown",
   "id": "afdb66af-9ef5-4156-bbea-0c9a073b1ee4",
   "metadata": {},
   "source": [
    "## 1) Difine about List ?\n",
    "- A list is a data structure in Python that is a mutable, or changeable, ordered sequence of elements. Each element or value that is inside of a list is called an item. Just as strings are defined as characters between quotes, lists are defined by having values between square brackets [ ].\n",
    "- Python has a great built-in list type named \"list\". "
   ]
  },
  {
   "cell_type": "code",
   "execution_count": null,
   "id": "571ee8a6-694f-41d6-abdf-9c004a213a84",
   "metadata": {},
   "outputs": [],
   "source": [
    "## Examples for List.\n",
    "\n",
    "Friends =[1,2,3,4,5,6,7,8,9,10]"
   ]
  },
  {
   "cell_type": "code",
   "execution_count": 23,
   "id": "33c6f80e-f381-45d1-be23-44e9c6427c65",
   "metadata": {},
   "outputs": [
    {
     "name": "stdout",
     "output_type": "stream",
     "text": [
      "[10, 20, 30, 40, 50, 60, 70, 8]\n"
     ]
    }
   ],
   "source": [
    "numbers = [10,20,30,40,50,60,70,8,]\n",
    "print(numbers)"
   ]
  },
  {
   "cell_type": "code",
   "execution_count": 25,
   "id": "4fc02507-1957-4ebe-8b08-865042f1b454",
   "metadata": {},
   "outputs": [
    {
     "name": "stdout",
     "output_type": "stream",
     "text": [
      "['Apple', 'bannana', 'Starfruit', 'Jackfruit']\n"
     ]
    }
   ],
   "source": [
    "Fruits = [\"Apple\",\"bannana\",\"Starfruit\",\"Jackfruit\"]\n",
    "print(Fruits)"
   ]
  },
  {
   "cell_type": "code",
   "execution_count": 33,
   "id": "2d03d06a-2d27-41c6-8345-efff0adb6fe1",
   "metadata": {},
   "outputs": [
    {
     "name": "stdout",
     "output_type": "stream",
     "text": [
      "[10, 100, 1000, 10000, 100000, 1000000]\n"
     ]
    }
   ],
   "source": [
    "A = [10,100,1000,10000,100000,1000000]\n",
    "print(A)"
   ]
  },
  {
   "cell_type": "code",
   "execution_count": null,
   "id": "78aad306-5490-47ba-bc17-6fac50deb084",
   "metadata": {},
   "outputs": [],
   "source": []
  },
  {
   "cell_type": "markdown",
   "id": "c29a58f5-dbe6-4452-8d31-83d8d9bd016e",
   "metadata": {},
   "source": [
    "## 2) Accesing the List ?\n",
    "- Python list elements are ordered by index, a number referring to their placement in the list. List indices start at 0 and increment by one. To access a list element by index, square bracket notation is used: list[index] ."
   ]
  },
  {
   "cell_type": "code",
   "execution_count": 38,
   "id": "3eb6d707-ea3d-4e53-a066-af7bf843f113",
   "metadata": {},
   "outputs": [
    {
     "name": "stdout",
     "output_type": "stream",
     "text": [
      "[1, 2, 3, 4, 5, 6, 12, 13, 14, 15, 16]\n"
     ]
    }
   ],
   "source": [
    "a= [1,2,3,4,5,6,12,13,14,15,16]\n",
    "print(a)"
   ]
  },
  {
   "cell_type": "code",
   "execution_count": 42,
   "id": "82a78efb-a2db-4572-a6b4-079663b44871",
   "metadata": {},
   "outputs": [
    {
     "name": "stdout",
     "output_type": "stream",
     "text": [
      "3\n"
     ]
    }
   ],
   "source": [
    "print(a[2])"
   ]
  },
  {
   "cell_type": "code",
   "execution_count": 44,
   "id": "7f97c6c3-22a4-47d1-a6f2-c658024311fb",
   "metadata": {},
   "outputs": [
    {
     "name": "stdout",
     "output_type": "stream",
     "text": [
      "5\n"
     ]
    }
   ],
   "source": [
    "print(a[4])"
   ]
  },
  {
   "cell_type": "code",
   "execution_count": 46,
   "id": "8209bdcd-15f9-495d-b291-3fb17baa41f0",
   "metadata": {},
   "outputs": [
    {
     "name": "stdout",
     "output_type": "stream",
     "text": [
      "1\n"
     ]
    }
   ],
   "source": [
    "print(a[0])"
   ]
  },
  {
   "cell_type": "code",
   "execution_count": null,
   "id": "1552ac72-866d-4b0e-990c-8d67b8e0b7b0",
   "metadata": {},
   "outputs": [],
   "source": []
  },
  {
   "cell_type": "markdown",
   "id": "1dc8da0c-b40a-4a64-8edb-8154f9ff1ae0",
   "metadata": {},
   "source": [
    "## 3) Concation ?\n",
    "- String concatenation means add strings together.\n",
    "- Use the + character to add a variable to another variable.\n",
    "- The operation of joining character strings end-to-end."
   ]
  },
  {
   "cell_type": "code",
   "execution_count": 51,
   "id": "ca6b7c7d-2bed-4d83-8d0b-ee9210ce1ed1",
   "metadata": {},
   "outputs": [
    {
     "name": "stdout",
     "output_type": "stream",
     "text": [
      "['Arun', 'akhil', 'Ramesh', 'Salman', 'chandu', 20, 30, 40, 22, 23]\n"
     ]
    }
   ],
   "source": [
    "Friends =[\"Arun\",\"akhil\",\"Ramesh\",\"Salman\",\"chandu\"]\n",
    "Age = [20,30,40,22,23]\n",
    "scholer = Friends+Age\n",
    "print(scholer)"
   ]
  },
  {
   "cell_type": "code",
   "execution_count": 63,
   "id": "4b013ab7-9ad6-4e5b-85a5-58559c2064f4",
   "metadata": {},
   "outputs": [
    {
     "name": "stdin",
     "output_type": "stream",
     "text": [
      "Enter u r name anushka\n"
     ]
    },
    {
     "name": "stdout",
     "output_type": "stream",
     "text": [
      "anushka vellu ra babu\n"
     ]
    }
   ],
   "source": [
    "A= input(\"Enter u r name\")\n",
    "B=[\"arun\",\"akhil\",\"salman\",\"chandu\",\"mahesh\",\"samantha\"]\n",
    "if A in B:\n",
    "    print(A+\" is your friend\")\n",
    "else:\n",
    "    print(A+\" vellu ra babu\")"
   ]
  },
  {
   "cell_type": "code",
   "execution_count": 65,
   "id": "bd4db598-705f-4119-b77f-39468515858f",
   "metadata": {},
   "outputs": [
    {
     "name": "stdout",
     "output_type": "stream",
     "text": [
      "[1, 2, 3, 4, 5, 6, 7, 12, 13, 14, 15, 16]\n"
     ]
    }
   ],
   "source": [
    "A = [1,2,3,4,5,6,7]\n",
    "b=[12,13,14,15,16]\n",
    "c=A+b\n",
    "print(c)"
   ]
  },
  {
   "cell_type": "code",
   "execution_count": null,
   "id": "fc73d497-045a-4a1e-aa64-7e43999b5d7d",
   "metadata": {},
   "outputs": [],
   "source": []
  },
  {
   "cell_type": "code",
   "execution_count": null,
   "id": "d42aaea9-b45e-4924-a054-ca03397af4e6",
   "metadata": {},
   "outputs": [],
   "source": []
  },
  {
   "cell_type": "markdown",
   "id": "86c4bfa0-004c-445c-b783-8135ed7bc1d3",
   "metadata": {},
   "source": [
    "## 4) Repeation ?\n",
    "- Repetition statements are called loops.\n",
    "- it used to repeat the same code multiple times in succession."
   ]
  },
  {
   "cell_type": "code",
   "execution_count": 74,
   "id": "b117ebb5-5e06-4a5e-b860-efd5b988513b",
   "metadata": {},
   "outputs": [
    {
     "name": "stdout",
     "output_type": "stream",
     "text": [
      " i love u \n",
      " i love u \n",
      " i love u \n",
      " i love u \n",
      " i love u \n",
      "\n"
     ]
    }
   ],
   "source": [
    "A = (\" i love u \\n\")\n",
    "b = A*5\n",
    "print(b)"
   ]
  },
  {
   "cell_type": "code",
   "execution_count": 98,
   "id": "b9dd43a7-7776-4175-b3aa-ee383b1f7702",
   "metadata": {},
   "outputs": [
    {
     "name": "stdout",
     "output_type": "stream",
     "text": [
      "[1, 2, 3, 4, 5, 6, 7, 8, 9, 0]\n"
     ]
    }
   ],
   "source": [
    "Arun = [1,2,3,4,5,6,7,8,9,00]\n",
    "print(Arun)"
   ]
  },
  {
   "cell_type": "code",
   "execution_count": 100,
   "id": "1eca9e0f-01ed-4a99-9a6c-8cbae17fa9d2",
   "metadata": {},
   "outputs": [
    {
     "name": "stdout",
     "output_type": "stream",
     "text": [
      "[1, 2, 3, 4, 5, 6, 7, 8, 9, 0, 1, 2, 3, 4, 5, 6, 7, 8, 9, 0, 1, 2, 3, 4, 5, 6, 7, 8, 9, 0, 1, 2, 3, 4, 5, 6, 7, 8, 9, 0, 1, 2, 3, 4, 5, 6, 7, 8, 9, 0]\n"
     ]
    }
   ],
   "source": [
    "b = Arun*5\n",
    "print(b)"
   ]
  },
  {
   "cell_type": "code",
   "execution_count": 102,
   "id": "13f8a342-ad2d-4f28-9ea9-3ea1a2db1b49",
   "metadata": {},
   "outputs": [
    {
     "name": "stdout",
     "output_type": "stream",
     "text": [
      "[1, 2, 3, 4, 5, 6, 7, 8, 9, 0]\n"
     ]
    }
   ],
   "source": [
    "print(Arun)"
   ]
  },
  {
   "cell_type": "code",
   "execution_count": 104,
   "id": "b3d212de-55e5-49d2-83bc-5a8b831d5284",
   "metadata": {},
   "outputs": [
    {
     "name": "stdout",
     "output_type": "stream",
     "text": [
      "[1, 2, 3, 4, 5, 6, 7, 8, 9, 0, 1, 2, 3, 4, 5, 6, 7, 8, 9, 0]\n"
     ]
    }
   ],
   "source": [
    "arun=Arun*2\n",
    "print(arun)"
   ]
  },
  {
   "cell_type": "code",
   "execution_count": null,
   "id": "6ee0638e-5f17-4362-bdec-34949cc9541e",
   "metadata": {},
   "outputs": [],
   "source": []
  },
  {
   "cell_type": "code",
   "execution_count": null,
   "id": "80310c68-ac68-45a4-8a66-a2b73aaee812",
   "metadata": {},
   "outputs": [],
   "source": []
  },
  {
   "cell_type": "code",
   "execution_count": null,
   "id": "27d8157c-ca39-4c70-8ad8-699a13aabc79",
   "metadata": {},
   "outputs": [],
   "source": []
  },
  {
   "cell_type": "markdown",
   "id": "179ee02b-16e5-4b72-839a-3310daf19a18",
   "metadata": {},
   "source": [
    "## 5) Types of List Methods?\n",
    "- append()-----Adds an element at the end of the list\n",
    "- clear()-----Removes all the elements from the list\n",
    "- copy()-----Returns a copy of the list\n",
    "- count()-----Returns the number of elements with the specified value\n",
    "- extend()-----Add the elements of a list (or any iterable), to the end of the current list\n",
    "- index()-----Returns the index of the first element with the specified value\n",
    "- insert()------dds an element at the specified position\n",
    "- pop()-----Removes the element at the specified position\n",
    "- remove()-----\tRemoves the item with the specified value\n",
    "- reverse()-----Reverses the order of the list\n",
    "- sort()-----Sorts the list"
   ]
  },
  {
   "cell_type": "markdown",
   "id": "c5fc4efe-fcb5-468e-918f-6191562fe241",
   "metadata": {},
   "source": [
    "## append().\n",
    "- Adds an element at the end of the list."
   ]
  },
  {
   "cell_type": "code",
   "execution_count": 112,
   "id": "a480e114-7bb1-4144-8b93-533aa836cb63",
   "metadata": {},
   "outputs": [
    {
     "name": "stdout",
     "output_type": "stream",
     "text": [
      "[1, 2, 3, 4, 5, 6]\n"
     ]
    }
   ],
   "source": [
    "A = [1,2,3,4,5,6]\n",
    "print(A)\n"
   ]
  },
  {
   "cell_type": "code",
   "execution_count": 120,
   "id": "fc02ca54-21a9-4d8c-a903-719cdd669b17",
   "metadata": {},
   "outputs": [
    {
     "name": "stdout",
     "output_type": "stream",
     "text": [
      "[1, 2, 3, 4, 5, 6, 100, 100, 10, 100]\n"
     ]
    }
   ],
   "source": [
    "A.append(100)\n",
    "print(A)"
   ]
  },
  {
   "cell_type": "code",
   "execution_count": 118,
   "id": "3717fbb8-d04d-4bb4-8fae-4ee8c4b89cc7",
   "metadata": {},
   "outputs": [
    {
     "name": "stdout",
     "output_type": "stream",
     "text": [
      "[1, 2, 3, 4, 5, 6, 100, 100, 10]\n"
     ]
    }
   ],
   "source": [
    "A.append(10)\n",
    "print(A)"
   ]
  },
  {
   "cell_type": "markdown",
   "id": "98651ae6-04e5-422a-928c-e3da96488bfc",
   "metadata": {},
   "source": [
    "## clear().\n",
    "- Removes all the elements from the list."
   ]
  },
  {
   "cell_type": "code",
   "execution_count": 134,
   "id": "9dc3656a-cf68-4d77-b025-5f245f0acc97",
   "metadata": {},
   "outputs": [
    {
     "name": "stdout",
     "output_type": "stream",
     "text": [
      "[1, 2, 3, 4, 5, 6, 7, 8, 9, 10]\n"
     ]
    }
   ],
   "source": [
    "l = [1,2,3,4,5,6,7,8,9,10]\n",
    "print(l)"
   ]
  },
  {
   "cell_type": "code",
   "execution_count": 140,
   "id": "37d50d86-0e6a-4029-9ecb-34b1cfc336d3",
   "metadata": {},
   "outputs": [],
   "source": [
    "l.clear()"
   ]
  },
  {
   "cell_type": "code",
   "execution_count": null,
   "id": "090eb8a6-c055-4b85-92f2-5d6fd26f57db",
   "metadata": {},
   "outputs": [],
   "source": []
  },
  {
   "cell_type": "code",
   "execution_count": 142,
   "id": "413530a3-341e-4619-ab52-88eea17ec825",
   "metadata": {},
   "outputs": [
    {
     "name": "stdout",
     "output_type": "stream",
     "text": [
      "['Akhil', 'Varun', 'Tharun']\n"
     ]
    }
   ],
   "source": [
    "Arun = [\"Akhil\",\"Varun\",\"Tharun\"]\n",
    "print(Arun)"
   ]
  },
  {
   "cell_type": "code",
   "execution_count": 144,
   "id": "0b13edc5-bab5-4adc-8b5c-aef5ea8fcd59",
   "metadata": {},
   "outputs": [],
   "source": [
    "Arun.clear()"
   ]
  },
  {
   "cell_type": "code",
   "execution_count": null,
   "id": "5fe74c2d-693a-4ca9-a108-72fb3ba34886",
   "metadata": {},
   "outputs": [],
   "source": []
  },
  {
   "cell_type": "markdown",
   "id": "de27a317-b50b-43c0-97d3-b45bacd5d5bd",
   "metadata": {},
   "source": [
    "## copy().\n",
    "- Returns a copy of the list"
   ]
  },
  {
   "cell_type": "code",
   "execution_count": null,
   "id": "b372da39-3245-4130-9b69-44d1960b8caf",
   "metadata": {},
   "outputs": [],
   "source": [
    "A = [1,2,3,4,5,6,7,8,9,10]"
   ]
  }
 ],
 "metadata": {
  "kernelspec": {
   "display_name": "Python 3 (ipykernel)",
   "language": "python",
   "name": "python3"
  },
  "language_info": {
   "codemirror_mode": {
    "name": "ipython",
    "version": 3
   },
   "file_extension": ".py",
   "mimetype": "text/x-python",
   "name": "python",
   "nbconvert_exporter": "python",
   "pygments_lexer": "ipython3",
   "version": "3.12.4"
  }
 },
 "nbformat": 4,
 "nbformat_minor": 5
}
