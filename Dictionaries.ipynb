{
 "cells": [
  {
   "cell_type": "markdown",
   "id": "8a32eb40-3d2c-488a-92eb-468ce35d552b",
   "metadata": {},
   "source": [
    "## 1.Define About Dictionaries ?\n",
    "- Dictionaries are used to store data values in key:value pairs.\n",
    "- Dictionaries are also known as assosiative arrays and hash maps in other programming languages.\n",
    "- They are defined using curly braces{} and consist of key-value pairs seperated by colons.\n",
    "- A dictionary is a collection which is mutable.\n",
    "- Dictionary do not allow duplicates.\n",
    "- This is used for mapping purpose.\n",
    "- In dict we don't have slicing and indexing.\n",
    "- By using keys we can easily access values."
   ]
  },
  {
   "cell_type": "markdown",
   "id": "59eb20bf-8edb-4c6a-8e1f-ccdacce2ef93",
   "metadata": {},
   "source": [
    "## 2.Create  examples of Dictionaries ?"
   ]
  },
  {
   "cell_type": "code",
   "execution_count": 5,
   "id": "7e92ad9d-70ad-4974-8d15-a9d9ab670c73",
   "metadata": {},
   "outputs": [
    {
     "name": "stdout",
     "output_type": "stream",
     "text": [
      "{'name': 'lenova', 'cost': '55000', 'genaration': '11'}\n"
     ]
    }
   ],
   "source": [
    "laptop={'name':'lenova','cost':'55000','genaration':'11'}\n",
    "print(laptop)"
   ]
  },
  {
   "cell_type": "code",
   "execution_count": 7,
   "id": "d244a79d-ecd2-47ca-bfcb-c58af4d8f3df",
   "metadata": {},
   "outputs": [
    {
     "name": "stdout",
     "output_type": "stream",
     "text": [
      "{'name': 'Dell', 'cost': '60000', 'genaration': '11'}\n"
     ]
    }
   ],
   "source": [
    "lap={'name':'Dell','cost':'60000','genaration':'11'}\n",
    "print(lap)"
   ]
  },
  {
   "cell_type": "code",
   "execution_count": 9,
   "id": "04874c27-de3a-4157-ad9e-5c89d52e6e86",
   "metadata": {},
   "outputs": [
    {
     "name": "stdout",
     "output_type": "stream",
     "text": [
      "{'laptop': 'lenova'}\n"
     ]
    }
   ],
   "source": [
    "brand={'laptop':'lenova'}\n",
    "print(brand)"
   ]
  },
  {
   "cell_type": "code",
   "execution_count": 11,
   "id": "ecc36f5a-c2b1-4115-a654-b8829d15a637",
   "metadata": {},
   "outputs": [
    {
     "name": "stdout",
     "output_type": "stream",
     "text": [
      "{'brand': 'ford', 'model': 'mustang', 'year': '1964'}\n"
     ]
    }
   ],
   "source": [
    "cars={'brand':'ford','model':'mustang','year':'1964'}\n",
    "print(cars)"
   ]
  },
  {
   "cell_type": "code",
   "execution_count": 13,
   "id": "1ff82a0a-8512-4b38-921b-c11c5de89931",
   "metadata": {},
   "outputs": [
    {
     "name": "stdout",
     "output_type": "stream",
     "text": [
      "{'name': 'Jackfruit', 'cost': '200'}\n"
     ]
    }
   ],
   "source": [
    "fruit={'name':'Jackfruit','cost':'200'}\n",
    "print(fruit)"
   ]
  },
  {
   "cell_type": "code",
   "execution_count": null,
   "id": "7621e6b9-7a35-4381-8e37-ff073b5d00f5",
   "metadata": {},
   "outputs": [],
   "source": []
  },
  {
   "cell_type": "code",
   "execution_count": null,
   "id": "9c71d744-dbc5-45ab-aa26-6f90cfc5f372",
   "metadata": {},
   "outputs": [],
   "source": []
  },
  {
   "cell_type": "markdown",
   "id": "480c0360-4a34-4fc4-9626-6da7d711cc9c",
   "metadata": {},
   "source": [
    "## 3.Modify the dictionaries."
   ]
  },
  {
   "cell_type": "code",
   "execution_count": 18,
   "id": "1275af45-eeb4-4110-8117-3edaf0715a95",
   "metadata": {},
   "outputs": [
    {
     "name": "stdout",
     "output_type": "stream",
     "text": [
      "{'name': 'lenova', 'cost': '999', 'genaration': '11'}\n"
     ]
    }
   ],
   "source": [
    "laptop={'name':'lenova','cost':'55000','genaration':'11'}\n",
    "laptop['cost'] = '999'\n",
    "print(laptop)"
   ]
  },
  {
   "cell_type": "code",
   "execution_count": 20,
   "id": "c32cefdf-bb09-4294-8392-6b2832ad633c",
   "metadata": {},
   "outputs": [
    {
     "name": "stdout",
     "output_type": "stream",
     "text": [
      "{'brand': 'ford', 'model': 'mustang', 'year': '1947'}\n"
     ]
    }
   ],
   "source": [
    "cars={'brand':'ford','model':'mustang','year':'1964'}\n",
    "cars['year']='1947'\n",
    "print(cars)"
   ]
  },
  {
   "cell_type": "code",
   "execution_count": 22,
   "id": "9e19a87b-3f2a-4bc8-a8a3-7b3ff0981d22",
   "metadata": {},
   "outputs": [
    {
     "name": "stdout",
     "output_type": "stream",
     "text": [
      "{'laptop': 'Mackbook'}\n"
     ]
    }
   ],
   "source": [
    "brand={'laptop':'lenova'}\n",
    "brand['laptop']='Mackbook'\n",
    "print(brand)"
   ]
  },
  {
   "cell_type": "code",
   "execution_count": 24,
   "id": "5c2a6fa6-5ca8-4493-ab2b-57328906af1d",
   "metadata": {},
   "outputs": [
    {
     "name": "stdout",
     "output_type": "stream",
     "text": [
      "{'brand': 'Tesla', 'model': 'mustang', 'year': '2050'}\n"
     ]
    }
   ],
   "source": [
    "cars={'brand':'ford','model':'mustang','year':'1964'}\n",
    "cars['brand']='Tesla'\n",
    "cars['year']='2050'\n",
    "print(cars)"
   ]
  },
  {
   "cell_type": "code",
   "execution_count": null,
   "id": "df6a7ef6-276d-4b3e-a373-1a1ace142c49",
   "metadata": {},
   "outputs": [],
   "source": []
  },
  {
   "cell_type": "markdown",
   "id": "529f2066-96b9-4186-ab40-a71e700239b0",
   "metadata": {},
   "source": [
    "## 4.Adding a new entry ?"
   ]
  },
  {
   "cell_type": "code",
   "execution_count": 27,
   "id": "655005f3-8764-46a9-b041-cb1c14366ac4",
   "metadata": {},
   "outputs": [
    {
     "name": "stdout",
     "output_type": "stream",
     "text": [
      "{'brand': 'ford', 'model': 'mustang', 'year': '1964'}\n",
      "{'brand': 'ford', 'model': 'mustang', 'year': '1964', 'cost': '1,00,00,000'}\n"
     ]
    }
   ],
   "source": [
    "cars={'brand':'ford','model':'mustang','year':'1964'}\n",
    "print(cars)\n",
    "cars['cost']='1,00,00,000'\n",
    "print(cars)"
   ]
  },
  {
   "cell_type": "code",
   "execution_count": 29,
   "id": "f2e8a1b9-1e61-415c-9b83-ea3838c70464",
   "metadata": {},
   "outputs": [
    {
     "name": "stdout",
     "output_type": "stream",
     "text": [
      "{'name': 'lenova', 'cost': '55000', 'genaration': '11'}\n",
      "{'name': 'lenova', 'cost': '55000', 'genaration': '11', 'Ram': '128 GB'}\n"
     ]
    }
   ],
   "source": [
    "laptop={'name':'lenova','cost':'55000','genaration':'11'}\n",
    "print(laptop)\n",
    "laptop['Ram'] = '128 GB'\n",
    "print(laptop)"
   ]
  },
  {
   "cell_type": "code",
   "execution_count": 31,
   "id": "970bcf7e-90eb-4b7c-b265-d3f08c472280",
   "metadata": {},
   "outputs": [
    {
     "name": "stdout",
     "output_type": "stream",
     "text": [
      "{'brand': 'ford', 'model': 'mustang', 'year': '1964'}\n",
      "{'brand': 'ford', 'model': 'mustang', 'year': '1964', 'waiting time': '6 months'}\n"
     ]
    }
   ],
   "source": [
    "cars={'brand':'ford','model':'mustang','year':'1964'}\n",
    "print(cars)\n",
    "cars['waiting time']='6 months'\n",
    "print(cars)"
   ]
  },
  {
   "cell_type": "code",
   "execution_count": 40,
   "id": "72c48ec6-2e06-4776-a906-b8b59a79572c",
   "metadata": {},
   "outputs": [
    {
     "name": "stdout",
     "output_type": "stream",
     "text": [
      "{'name': 'Jackfruit', 'cost': '200'}\n",
      "{'name': 'Jackfruit', 'cost': '200', 'weight': '10kg'}\n"
     ]
    }
   ],
   "source": [
    "fruit={'name':'Jackfruit','cost':'200'}\n",
    "print(fruit)\n",
    "fruit['weight']='10kg'\n",
    "print(fruit)"
   ]
  },
  {
   "cell_type": "code",
   "execution_count": null,
   "id": "fea495f6-daf0-4731-8dd5-c49d0a053ba7",
   "metadata": {},
   "outputs": [],
   "source": []
  },
  {
   "cell_type": "code",
   "execution_count": null,
   "id": "f8ec44cf-b927-4df4-b2b5-667c2dbffbc8",
   "metadata": {},
   "outputs": [],
   "source": []
  },
  {
   "cell_type": "markdown",
   "id": "e4cd68ef-a21c-4c43-b7ec-e608aee08d23",
   "metadata": {},
   "source": [
    "## 5. Methods for dictionary ?\n",
    " "
   ]
  },
  {
   "cell_type": "markdown",
   "id": "56ec0b64-88e5-41fa-96da-e9c1f18ed327",
   "metadata": {},
   "source": [
    "### 1. clear():\n",
    "- removes all the elements from the dictionary."
   ]
  },
  {
   "cell_type": "code",
   "execution_count": 37,
   "id": "07d683d6-747f-4421-ab67-052f1303be83",
   "metadata": {},
   "outputs": [
    {
     "name": "stdout",
     "output_type": "stream",
     "text": [
      "{}\n"
     ]
    }
   ],
   "source": [
    "details={'name':'Arun','age':'22','cource':'Data Analyst'}\n",
    "details.clear()\n",
    "print(details)"
   ]
  },
  {
   "cell_type": "markdown",
   "id": "a93783f2-af1a-41ab-8f9c-bbe2ac1e86c2",
   "metadata": {},
   "source": [
    "###  2.copy():\n",
    "- copies the dictionary."
   ]
  },
  {
   "cell_type": "code",
   "execution_count": 43,
   "id": "4afa4048-f6fb-41f9-ae9f-21fe3f1ffc11",
   "metadata": {},
   "outputs": [
    {
     "data": {
      "text/plain": [
       "{'name': 'Arun', 'age': '22', 'cource': 'Data Analyst'}"
      ]
     },
     "execution_count": 43,
     "metadata": {},
     "output_type": "execute_result"
    }
   ],
   "source": [
    "details={'name':'Arun','age':'22','cource':'Data Analyst'}\n",
    "details.copy()"
   ]
  },
  {
   "cell_type": "markdown",
   "id": "3192c2f2-2296-4574-bcbe-c8998aa41717",
   "metadata": {},
   "source": [
    "### 3.fromkeys():\n",
    "- returns a dictionary with the specified keys and value."
   ]
  },
  {
   "cell_type": "code",
   "execution_count": 48,
   "id": "d7dfaa37-7b4c-47cd-9f6c-d9c1d47d3332",
   "metadata": {},
   "outputs": [
    {
     "name": "stdout",
     "output_type": "stream",
     "text": [
      "{'name': 0, 'cost': 0, 'genaration': 0}\n"
     ]
    }
   ],
   "source": [
    "details={'name':'Arun','age':'22','cource':'Data Analyst'}\n",
    "x=0\n",
    "thisdict=dict.fromkeys(student,x)\n",
    "print(thisdict)"
   ]
  },
  {
   "cell_type": "markdown",
   "id": "b46c9524-ff07-4757-ab81-8e5601e55419",
   "metadata": {},
   "source": [
    "### 4.get():\n",
    "- returns the value of the specified key."
   ]
  },
  {
   "cell_type": "code",
   "execution_count": 52,
   "id": "1d5fb9dc-e497-4aa2-9c01-f9b3f679874f",
   "metadata": {},
   "outputs": [
    {
     "data": {
      "text/plain": [
       "'Arun'"
      ]
     },
     "execution_count": 52,
     "metadata": {},
     "output_type": "execute_result"
    }
   ],
   "source": [
    "details={'name':'Arun','age':'22','cource':'Data Analyst'}\n",
    "details.get('name')"
   ]
  },
  {
   "cell_type": "markdown",
   "id": "0943d57e-22bb-458b-8949-b49761f2fbc0",
   "metadata": {},
   "source": [
    "## 5.items():"
   ]
  },
  {
   "cell_type": "markdown",
   "id": "da91ba79-1101-4966-a91d-154da84b1aff",
   "metadata": {},
   "source": [
    "- returns a list containing a tuple for each key value pair."
   ]
  },
  {
   "cell_type": "code",
   "execution_count": 58,
   "id": "6d683e91-b971-4ffe-b928-87331c1376f2",
   "metadata": {},
   "outputs": [
    {
     "data": {
      "text/plain": [
       "dict_items([('name', 'Arun'), ('age', '22'), ('cource', 'Data Analyst')])"
      ]
     },
     "execution_count": 58,
     "metadata": {},
     "output_type": "execute_result"
    }
   ],
   "source": [
    "details={'name':'Arun','age':'22','cource':'Data Analyst'}\n",
    "details.items()"
   ]
  },
  {
   "cell_type": "code",
   "execution_count": null,
   "id": "6f879813-b224-4f0f-8439-cb0ac48afb5e",
   "metadata": {},
   "outputs": [],
   "source": []
  },
  {
   "cell_type": "markdown",
   "id": "f5c9b3a3-2de9-4c12-8615-7b433afff079",
   "metadata": {},
   "source": [
    "## 6.keys():\n",
    "- returns a list containing the dictionarys keys."
   ]
  },
  {
   "cell_type": "code",
   "execution_count": 61,
   "id": "173daf29-d69b-41e7-99b6-9fa01251aa3e",
   "metadata": {},
   "outputs": [
    {
     "data": {
      "text/plain": [
       "dict_keys(['name', 'age', 'cource'])"
      ]
     },
     "execution_count": 61,
     "metadata": {},
     "output_type": "execute_result"
    }
   ],
   "source": [
    "details={'name':'Arun','age':'22','cource':'Data Analyst'}\n",
    "details.keys()"
   ]
  },
  {
   "cell_type": "code",
   "execution_count": null,
   "id": "c80cc46c-d986-4d3d-9e14-a6d37b1caad1",
   "metadata": {},
   "outputs": [],
   "source": []
  },
  {
   "cell_type": "markdown",
   "id": "5e174abe-137c-480a-a1b8-4d3b3d86a85b",
   "metadata": {},
   "source": [
    "## 7.pop():\n",
    "- removes the element with the specified key."
   ]
  },
  {
   "cell_type": "code",
   "execution_count": 66,
   "id": "e5b8656e-e5d3-425c-b8aa-d36ca67677ef",
   "metadata": {},
   "outputs": [
    {
     "name": "stdout",
     "output_type": "stream",
     "text": [
      "{'name': 'Arun', 'age': '22'}\n"
     ]
    }
   ],
   "source": [
    "details={'name':'Arun','age':'22','cource':'Data Analyst'}\n",
    "details.pop('cource')\n",
    "print(details)"
   ]
  },
  {
   "cell_type": "code",
   "execution_count": null,
   "id": "966b398c-607b-4b80-b89c-8cbc64b659e7",
   "metadata": {},
   "outputs": [],
   "source": []
  },
  {
   "cell_type": "markdown",
   "id": "361de009-501a-480b-bb6f-ddd09abc1e10",
   "metadata": {},
   "source": [
    "## 8.popitem():\n",
    "- removes the last inserted key-value pair."
   ]
  },
  {
   "cell_type": "code",
   "execution_count": 69,
   "id": "e44d66fb-03f2-4bfe-9881-96927b28b0da",
   "metadata": {},
   "outputs": [
    {
     "name": "stdout",
     "output_type": "stream",
     "text": [
      "{'name': 'Arun', 'age': '22'}\n"
     ]
    }
   ],
   "source": [
    "details={'name':'Arun','age':'22','cource':'Data Analyst'}\n",
    "details.popitem()\n",
    "print(details)"
   ]
  },
  {
   "cell_type": "code",
   "execution_count": null,
   "id": "5c96d0c5-dcbf-44da-92a1-ed70d9c0a379",
   "metadata": {},
   "outputs": [],
   "source": []
  },
  {
   "cell_type": "markdown",
   "id": "d1648c18-d733-4506-9314-02458c9ef725",
   "metadata": {},
   "source": [
    "## 9.update():\n",
    "- updates the dictionary with the specified key-value pairs."
   ]
  },
  {
   "cell_type": "code",
   "execution_count": 72,
   "id": "d9cd5ddd-1222-4511-bc11-f93c96f13b41",
   "metadata": {},
   "outputs": [
    {
     "name": "stdout",
     "output_type": "stream",
     "text": [
      "{'name': 'Arun', 'age': '22', 'cource': 'Data Analyst', 'rollno': '21QP5A0506'}\n"
     ]
    }
   ],
   "source": [
    "details={'name':'Arun','age':'22','cource':'Data Analyst'}\n",
    "details.update({'rollno':'21QP5A0506'})\n",
    "print(details)"
   ]
  },
  {
   "cell_type": "code",
   "execution_count": null,
   "id": "f9a16a22-2b45-4f69-839f-0846a8f3f099",
   "metadata": {},
   "outputs": [],
   "source": []
  },
  {
   "cell_type": "markdown",
   "id": "734ccaf8-811c-4a44-b651-6071fe4383eb",
   "metadata": {},
   "source": [
    "## 10.values():\n",
    "- Returns a list of all the values in the dictionary."
   ]
  },
  {
   "cell_type": "code",
   "execution_count": 78,
   "id": "ed95aba0-3b9b-40c3-92ed-ea7fd2f27a6d",
   "metadata": {},
   "outputs": [
    {
     "data": {
      "text/plain": [
       "dict_values(['Arun', '22', 'Data Analyst'])"
      ]
     },
     "execution_count": 78,
     "metadata": {},
     "output_type": "execute_result"
    }
   ],
   "source": [
    "details={'name':'Arun','age':'22','cource':'Data Analyst'}\n",
    "details.values()"
   ]
  },
  {
   "cell_type": "code",
   "execution_count": null,
   "id": "624cfb07-6a53-4ea3-86d1-15fe60a140b3",
   "metadata": {},
   "outputs": [],
   "source": []
  },
  {
   "cell_type": "markdown",
   "id": "b8d6b0ae-59c9-4d76-9b04-db755cec58af",
   "metadata": {},
   "source": [
    "## 11.setdefault():\n",
    "- Returns the key value of the specified key.if the key doesnot exist:insert the key,with the specified value."
   ]
  },
  {
   "cell_type": "code",
   "execution_count": null,
   "id": "1b0b5896-1d9c-4c37-946b-985a58dd5a87",
   "metadata": {},
   "outputs": [],
   "source": [
    "details={'name':'Arun','age':'22','cource':'Data Analyst'}\n",
    "Z = details.setdefault('rollnum','21QP5A050')\n",
    "details.values()"
   ]
  }
 ],
 "metadata": {
  "kernelspec": {
   "display_name": "Python 3 (ipykernel)",
   "language": "python",
   "name": "python3"
  },
  "language_info": {
   "codemirror_mode": {
    "name": "ipython",
    "version": 3
   },
   "file_extension": ".py",
   "mimetype": "text/x-python",
   "name": "python",
   "nbconvert_exporter": "python",
   "pygments_lexer": "ipython3",
   "version": "3.12.4"
  }
 },
 "nbformat": 4,
 "nbformat_minor": 5
}
