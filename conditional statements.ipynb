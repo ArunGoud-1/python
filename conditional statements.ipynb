{
 "cells": [
  {
   "cell_type": "code",
   "execution_count": null,
   "id": "482a6049-a89f-409b-b24e-5ad7acaad21b",
   "metadata": {},
   "outputs": [],
   "source": []
  },
  {
   "cell_type": "markdown",
   "id": "0fb931ba-d4e8-43e2-9e5e-cb0d76fcf4ae",
   "metadata": {},
   "source": [
    "# Conditional Statements."
   ]
  },
  {
   "cell_type": "code",
   "execution_count": null,
   "id": "15f9ef90-c578-47ac-85c2-0d97f799bb21",
   "metadata": {},
   "outputs": [],
   "source": []
  },
  {
   "cell_type": "markdown",
   "id": "d2865866-ded1-4e20-8f34-6d1b5cab5665",
   "metadata": {},
   "source": [
    "- Conditional Statements are used in Programming to perform different actions based on specific condition."
   ]
  },
  {
   "cell_type": "markdown",
   "id": "a3aa4466-19f0-4910-a949-95b9229d7269",
   "metadata": {},
   "source": [
    "- They allow code to make decisions."
   ]
  },
  {
   "cell_type": "markdown",
   "id": "755f6847-021a-46c2-ae9b-00ecc0d191e7",
   "metadata": {},
   "source": [
    "- conditional statements are :"
   ]
  },
  {
   "cell_type": "markdown",
   "id": "68f4a54b-acf7-4abb-88be-9565a1d56131",
   "metadata": {},
   "source": [
    "   - if statement.\n",
    "   - else Statement.\n",
    "   - elif Statement."
   ]
  },
  {
   "cell_type": "code",
   "execution_count": null,
   "id": "2c93d53a-9c1d-4eb3-8576-7d5868766043",
   "metadata": {},
   "outputs": [],
   "source": []
  },
  {
   "cell_type": "markdown",
   "id": "ec60c7f3-063e-4cbc-8e25-e5206447abf3",
   "metadata": {},
   "source": [
    "## if Statement."
   ]
  },
  {
   "cell_type": "markdown",
   "id": "5095b481-6860-4e96-b9b5-2c59d31f3e34",
   "metadata": {},
   "source": [
    "- it executes a block of code if a specified condition is True."
   ]
  },
  {
   "cell_type": "markdown",
   "id": "b91a0a65-8098-479f-b023-fee914619f47",
   "metadata": {},
   "source": [
    "- it is used for only one condition."
   ]
  },
  {
   "cell_type": "markdown",
   "id": "5ce028f6-8ef7-4781-bed3-bfa1d71a6a8e",
   "metadata": {},
   "source": [
    "### Syntax :"
   ]
  },
  {
   "cell_type": "markdown",
   "id": "7b3ffda5-f1db-4a73-afc5-c3208a45efd1",
   "metadata": {},
   "source": [
    "if condition: #code to execute."
   ]
  },
  {
   "cell_type": "code",
   "execution_count": 37,
   "id": "07fea514-98aa-4055-89b3-0b53efe77081",
   "metadata": {},
   "outputs": [
    {
     "name": "stdin",
     "output_type": "stream",
     "text": [
      "Enter your salary 2\n"
     ]
    },
    {
     "name": "stdout",
     "output_type": "stream",
     "text": [
      "Evaraa meranthaa\n"
     ]
    }
   ],
   "source": [
    "A = int(input(\"Enter your salary\"))\n",
    "if 10==10:\n",
    "    print(\"Evaraa meranthaa\")"
   ]
  },
  {
   "cell_type": "code",
   "execution_count": null,
   "id": "1dfde51d-a31a-462c-ad3e-fa33fa4294e3",
   "metadata": {},
   "outputs": [],
   "source": []
  },
  {
   "cell_type": "markdown",
   "id": "9f8c8af9-76ca-4f8a-a557-6060a2bfa7af",
   "metadata": {},
   "source": [
    "## Else Statement :"
   ]
  },
  {
   "cell_type": "markdown",
   "id": "b9b725ae-c486-4236-b046-8db89b090075",
   "metadata": {},
   "source": [
    "- it is used for only two Conditions."
   ]
  },
  {
   "cell_type": "markdown",
   "id": "bd8133cc-ccda-4b88-8274-b48eb5de0893",
   "metadata": {},
   "source": [
    "- it providess an alternative block of code that if condition is false."
   ]
  },
  {
   "cell_type": "code",
   "execution_count": 44,
   "id": "b88c338a-c621-46f6-b1dc-17fb2fe80f66",
   "metadata": {},
   "outputs": [
    {
     "name": "stdin",
     "output_type": "stream",
     "text": [
      "Enter your salary 5\n"
     ]
    },
    {
     "name": "stdout",
     "output_type": "stream",
     "text": [
      "Evaraa meranthaa\n"
     ]
    }
   ],
   "source": [
    "A = int(input(\"Enter your salary\"))\n",
    "if A<10:\n",
    "    print(\"Evaraa meranthaa\")\n",
    "else:\n",
    "    print(\"Memey raa\")"
   ]
  },
  {
   "cell_type": "code",
   "execution_count": null,
   "id": "73944f1f-236c-4273-9fda-3c7850ef6b45",
   "metadata": {},
   "outputs": [],
   "source": []
  },
  {
   "cell_type": "markdown",
   "id": "6efda5c4-b7da-4fb9-965a-eb33c45d9ed6",
   "metadata": {},
   "source": [
    "## if else Statement :"
   ]
  },
  {
   "cell_type": "markdown",
   "id": "84b350ef-1830-47af-8348-a8d87665f489",
   "metadata": {},
   "source": [
    "- The if-else statement is used to execute both the true part and the false part of a given condition."
   ]
  },
  {
   "cell_type": "markdown",
   "id": "d483054c-8dfb-48d9-b67a-f8ccc3ed5554",
   "metadata": {},
   "source": [
    "- it used when there is more than two are more condition."
   ]
  },
  {
   "cell_type": "code",
   "execution_count": 83,
   "id": "78191504-2a42-483a-b2df-3be48112955c",
   "metadata": {},
   "outputs": [
    {
     "name": "stdin",
     "output_type": "stream",
     "text": [
      "Enter your age 60\n"
     ]
    },
    {
     "name": "stdout",
     "output_type": "stream",
     "text": [
      "poii padukooo\n"
     ]
    }
   ],
   "source": [
    "A = int(input(\"Enter your age\"))\n",
    "if(A<=18):\n",
    "    print(\"chaduvukondi firstuu\")\n",
    "elif A>10 and A<50:\n",
    "    print(\"Edinaa panichesuko ra \")\n",
    "else:\n",
    "    print(\"poii padukooo\")"
   ]
  },
  {
   "cell_type": "code",
   "execution_count": null,
   "id": "9756eb05-be09-4612-9214-87ad7f93c3f2",
   "metadata": {},
   "outputs": [],
   "source": []
  },
  {
   "cell_type": "code",
   "execution_count": null,
   "id": "bf0bc8bf-c810-406a-9726-ac4fe5d87cfa",
   "metadata": {},
   "outputs": [],
   "source": []
  },
  {
   "cell_type": "code",
   "execution_count": null,
   "id": "a3658bab-6e1d-4d83-ac4b-53ccbc428de2",
   "metadata": {},
   "outputs": [],
   "source": []
  }
 ],
 "metadata": {
  "kernelspec": {
   "display_name": "Python 3 (ipykernel)",
   "language": "python",
   "name": "python3"
  },
  "language_info": {
   "codemirror_mode": {
    "name": "ipython",
    "version": 3
   },
   "file_extension": ".py",
   "mimetype": "text/x-python",
   "name": "python",
   "nbconvert_exporter": "python",
   "pygments_lexer": "ipython3",
   "version": "3.12.4"
  }
 },
 "nbformat": 4,
 "nbformat_minor": 5
}
