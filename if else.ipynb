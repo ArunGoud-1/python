{
 "cells": [
  {
   "cell_type": "markdown",
   "id": "1770ef82-542b-4d13-af61-c635dc5a07c2",
   "metadata": {},
   "source": [
    "## TASKS:\n"
   ]
  },
  {
   "cell_type": "markdown",
   "id": "a792a6db-2f0f-426c-89b5-fc6c3502ac62",
   "metadata": {},
   "source": [
    "### IF STATEMENT :"
   ]
  },
  {
   "cell_type": "markdown",
   "id": "9d76daf3-65c2-4a85-a9c2-b6fa52a1d3df",
   "metadata": {},
   "source": [
    "- An if statement is a condition statement used to check a condition, and execute it if the condition is true."
   ]
  },
  {
   "cell_type": "code",
   "execution_count": 24,
   "id": "2992826c-da9f-4b67-a0ee-6190e365e95f",
   "metadata": {},
   "outputs": [
    {
     "name": "stdin",
     "output_type": "stream",
     "text": [
      "Enter your Name Riyaa\n"
     ]
    },
    {
     "name": "stdout",
     "output_type": "stream",
     "text": [
      "Donini Daughter\n"
     ]
    }
   ],
   "source": [
    "A = input(\"Enter your Name\")\n",
    "B = [\"Riyaa\",\"samantha\",\"roja\"]\n",
    "if(A in B):\n",
    "    print(\"Donini Daughter\")\n",
    "else:\n",
    "    print(A,\"Evaruu\")"
   ]
  },
  {
   "cell_type": "code",
   "execution_count": null,
   "id": "b3236ec4-3159-41d1-b1cc-65854a1bf200",
   "metadata": {},
   "outputs": [],
   "source": []
  },
  {
   "cell_type": "markdown",
   "id": "54b71797-b964-4f05-8beb-f423fbb49367",
   "metadata": {},
   "source": [
    "### ELSE STATEMENT :"
   ]
  },
  {
   "cell_type": "markdown",
   "id": "6320cff9-c44b-4541-b1d2-58902aa817fc",
   "metadata": {},
   "source": [
    "- The else statement in Python is used to specify what to do if the condition  is false."
   ]
  },
  {
   "cell_type": "code",
   "execution_count": null,
   "id": "96992c08-ad36-45a7-a919-42d819f5e502",
   "metadata": {},
   "outputs": [],
   "source": []
  },
  {
   "cell_type": "code",
   "execution_count": 28,
   "id": "21ffc6a2-eeba-4bec-a3e3-6225bd130e99",
   "metadata": {},
   "outputs": [
    {
     "name": "stdin",
     "output_type": "stream",
     "text": [
      "Enter your Name Arun\n"
     ]
    },
    {
     "name": "stdout",
     "output_type": "stream",
     "text": [
      "Arun Evaruu\n"
     ]
    }
   ],
   "source": [
    "A = input(\"Enter your Name\")\n",
    "B = [\"Riyaa\",\"samantha\",\"roja\"]\n",
    "if(A in B):\n",
    "    print(\"Donini Daughter\")\n",
    "else:\n",
    "    print(A,\"Evaruu\")"
   ]
  },
  {
   "cell_type": "code",
   "execution_count": null,
   "id": "31d4e620-dcbb-4375-be1a-61a1a68b624d",
   "metadata": {},
   "outputs": [],
   "source": []
  },
  {
   "cell_type": "markdown",
   "id": "ad5e0f23-70c1-45cf-b98b-bb81a6bbe001",
   "metadata": {},
   "source": [
    "### ELIF STATEMENT :"
   ]
  },
  {
   "cell_type": "markdown",
   "id": "233ae902-0931-45aa-ae05-edaeb55c2c22",
   "metadata": {},
   "source": [
    "- The elif keyword in Python is short for \"else if\" and is used in conditional statements to check for multiple conditions."
   ]
  },
  {
   "cell_type": "code",
   "execution_count": null,
   "id": "50adfff6-f64e-470a-a8e2-23b93a300945",
   "metadata": {},
   "outputs": [],
   "source": [
    "A =int(input(\"Enter your Num\"))\n",
    "\n",
    "if x<10:\n",
    "    print(\"Domini Daughter\")\n",
    "\n",
    "elif(x>10 and x<40):\n",
    "    print(\"Riyaa\")\n",
    "else:\n",
    "    print(\"Esu dasuu\")"
   ]
  },
  {
   "cell_type": "markdown",
   "id": "ba611227-5710-416e-9f01-268e630117e8",
   "metadata": {},
   "source": [
    "## 1.leap year"
   ]
  },
  {
   "cell_type": "code",
   "execution_count": 18,
   "id": "c0211fe4-131b-4ef1-8427-fb19cde58aa6",
   "metadata": {},
   "outputs": [
    {
     "name": "stdin",
     "output_type": "stream",
     "text": [
      "enter u r year 1900\n"
     ]
    },
    {
     "name": "stdout",
     "output_type": "stream",
     "text": [
      "is a leap year\n"
     ]
    }
   ],
   "source": [
    "A=int(input(\"enter u r year\"))\n",
    "if A % 4==0 :\n",
    "    print(\"is a leap year\")\n",
    "else:\n",
    "    print(\"is a not leap year\")\n"
   ]
  },
  {
   "cell_type": "markdown",
   "id": "2576c063-2125-4d30-934d-9dfded4d8fcf",
   "metadata": {},
   "source": [
    "## 2.Write a python program to find the smallest among three numbers?"
   ]
  },
  {
   "cell_type": "code",
   "execution_count": 17,
   "id": "388b4084-b40c-44a6-994f-0ce40311aefa",
   "metadata": {},
   "outputs": [
    {
     "name": "stdin",
     "output_type": "stream",
     "text": [
      "Enter the Number a : 50\n",
      "Enter the Number b : 60\n",
      "Enter the Number c : 4\n"
     ]
    },
    {
     "name": "stdout",
     "output_type": "stream",
     "text": [
      "smallest num is c: 4\n"
     ]
    }
   ],
   "source": [
    "a = int(input(\"Enter the Number a :\"))\n",
    "b = int(input(\"Enter the Number b :\"))\n",
    "c = int(input(\"Enter the Number c :\"))\n",
    "if(a <= b and a <= c):\n",
    "    print(\"smallest num is a:\",a)\n",
    " \n",
    "elif(b <= a and b <= c):\n",
    "    print(\"smallest num is b:\",b)\n",
    "else:\n",
    "    print(\"smallest num is c:\",c)"
   ]
  },
  {
   "cell_type": "code",
   "execution_count": null,
   "id": "36af9912-47ac-4d76-afce-5e91ebc7b729",
   "metadata": {},
   "outputs": [],
   "source": []
  },
  {
   "cell_type": "code",
   "execution_count": null,
   "id": "b0eac136-b07c-4774-bf7e-90bb85b499e0",
   "metadata": {},
   "outputs": [],
   "source": []
  },
  {
   "cell_type": "code",
   "execution_count": null,
   "id": "7cfbf2e1-c51f-4e19-a2e3-29b282f1efc1",
   "metadata": {},
   "outputs": [],
   "source": []
  },
  {
   "cell_type": "markdown",
   "id": "b47f8983-26c9-4a0a-a37c-7d87c9a55526",
   "metadata": {},
   "source": [
    "## 5.Check vote Eligibulity ?"
   ]
  },
  {
   "cell_type": "code",
   "execution_count": null,
   "id": "5ba09ccc-683a-43f5-9c68-4dc413f2e51e",
   "metadata": {},
   "outputs": [],
   "source": []
  },
  {
   "cell_type": "code",
   "execution_count": 25,
   "id": "0d8b465a-0f89-469d-b50d-3eb90edc55b0",
   "metadata": {},
   "outputs": [
    {
     "name": "stdin",
     "output_type": "stream",
     "text": [
      "Enter your Age 20\n"
     ]
    },
    {
     "name": "stdout",
     "output_type": "stream",
     "text": [
      "u can vote\n"
     ]
    }
   ],
   "source": [
    "Age= int(input(\"Enter your Age\"))\n",
    "if(Age<18):\n",
    "    print(\"u cant vote\")\n",
    "\n",
    "else:\n",
    "    print(\"u can vote\")"
   ]
  },
  {
   "cell_type": "code",
   "execution_count": null,
   "id": "e28d872f-3deb-455e-ac4b-7d50120879b4",
   "metadata": {},
   "outputs": [],
   "source": []
  },
  {
   "cell_type": "code",
   "execution_count": null,
   "id": "b603da08-287c-43c0-900f-45b466c566b6",
   "metadata": {},
   "outputs": [],
   "source": []
  },
  {
   "cell_type": "markdown",
   "id": "60a98db5-0027-453b-88ec-e0ad0175c68e",
   "metadata": {},
   "source": [
    "## Find the person belongs to which group ?\n",
    "#### schoolgroup -lessthan 22\n",
    "#### work group graterthan 22 and lessthan 50\n",
    "#### Retire group graterthan 50"
   ]
  },
  {
   "cell_type": "code",
   "execution_count": null,
   "id": "b92e41e9-197a-417b-b933-3d3bfda15f09",
   "metadata": {},
   "outputs": [],
   "source": []
  },
  {
   "cell_type": "code",
   "execution_count": 31,
   "id": "abafa54c-ce2d-4622-9bfa-2873bed579ea",
   "metadata": {},
   "outputs": [
    {
     "name": "stdin",
     "output_type": "stream",
     "text": [
      "Enter your Age 28\n"
     ]
    },
    {
     "name": "stdout",
     "output_type": "stream",
     "text": [
      "Edhina pani chusukoraa\n"
     ]
    }
   ],
   "source": [
    "Age= int(input(\"Enter your Age\"))\n",
    "if(Age<22):\n",
    "    print(\"chaduvukondi firstuu\")\n",
    "elif(Age>22 and Age<=50):\n",
    "    print(\"Edhina pani chusukoraa\")\n",
    "\n",
    "else:\n",
    "    print(\"Retire pension group\")"
   ]
  },
  {
   "cell_type": "code",
   "execution_count": null,
   "id": "cf5652be-efa8-4cff-a66d-28e2d5fca264",
   "metadata": {},
   "outputs": [],
   "source": []
  }
 ],
 "metadata": {
  "kernelspec": {
   "display_name": "Python 3 (ipykernel)",
   "language": "python",
   "name": "python3"
  },
  "language_info": {
   "codemirror_mode": {
    "name": "ipython",
    "version": 3
   },
   "file_extension": ".py",
   "mimetype": "text/x-python",
   "name": "python",
   "nbconvert_exporter": "python",
   "pygments_lexer": "ipython3",
   "version": "3.12.4"
  }
 },
 "nbformat": 4,
 "nbformat_minor": 5
}
