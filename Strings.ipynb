{
 "cells": [
  {
   "cell_type": "markdown",
   "id": "3ef27e91-0bdf-449b-95a3-8e99c115992e",
   "metadata": {},
   "source": [
    "## 1. Define About Strings ?\n",
    "## 2. Create 10 Elements By using '' And \"\" ?\n",
    "## 3. Create a string of 50 characters and access any 10, using index ,slicing any 2 examples\n",
    "## 4. Explain about string formats ?\n",
    "## 5. Apply  String operations ?\n",
    "## 6. Apply  String Methods ? "
   ]
  },
  {
   "cell_type": "code",
   "execution_count": null,
   "id": "7adbd8ad-5491-4404-a0ce-8b83038999ac",
   "metadata": {},
   "outputs": [],
   "source": []
  },
  {
   "cell_type": "code",
   "execution_count": null,
   "id": "c01e922f-1acb-4d3c-95c7-406e091a0e57",
   "metadata": {},
   "outputs": [],
   "source": []
  },
  {
   "cell_type": "markdown",
   "id": "2d142821-5d0a-4de4-a926-945b357a7185",
   "metadata": {},
   "source": [
    "## 1. Define About Strings ?\n",
    "- String is a sequence of characters.\n",
    "- We can manipulate the variables by using various operations and string methods.\n",
    "- We can use single quotes(' '),double quotes(\" \")or triple quotes(''' ''').\n",
    "- The string classbcan be represented by \"str\" ."
   ]
  },
  {
   "cell_type": "code",
   "execution_count": null,
   "id": "124eb29e-4e42-473b-96d8-b87176e5101f",
   "metadata": {},
   "outputs": [],
   "source": []
  },
  {
   "cell_type": "markdown",
   "id": "00afc5ab-8fdb-4f29-9e3f-6cf1e0bf4dab",
   "metadata": {},
   "source": [
    "## 2. Create 10 Elements By using '' And \"\" ?\n"
   ]
  },
  {
   "cell_type": "code",
   "execution_count": 3,
   "id": "9a72202a-9634-4a80-b912-02ec569d3e70",
   "metadata": {},
   "outputs": [
    {
     "name": "stdout",
     "output_type": "stream",
     "text": [
      "Arun\n"
     ]
    }
   ],
   "source": [
    "A = \"Arun\"\n",
    "print(A)"
   ]
  },
  {
   "cell_type": "code",
   "execution_count": 5,
   "id": "5056e05e-6c78-41ea-9b16-4ad4cb733d1f",
   "metadata": {},
   "outputs": [
    {
     "name": "stdout",
     "output_type": "stream",
     "text": [
      "Laptop\n"
     ]
    }
   ],
   "source": [
    "lenova = 'Laptop'\n",
    "print(lenova)"
   ]
  },
  {
   "cell_type": "code",
   "execution_count": 7,
   "id": "24a17eda-bce9-4256-8b21-512cbf7787c5",
   "metadata": {},
   "outputs": [
    {
     "name": "stdout",
     "output_type": "stream",
     "text": [
      "Mahesh babu\n"
     ]
    }
   ],
   "source": [
    "MB = \"Mahesh babu\"\n",
    "print(MB)"
   ]
  },
  {
   "cell_type": "code",
   "execution_count": 9,
   "id": "7c705071-5a05-4c45-a602-743f072d4ea4",
   "metadata": {},
   "outputs": [
    {
     "name": "stdout",
     "output_type": "stream",
     "text": [
      "Guntur Karam\n"
     ]
    }
   ],
   "source": [
    "E1 = \"Guntur Karam\"\n",
    "E2 = \"Sarkari  vari Pata\"\n",
    "E3 = \"Sarileru neekevvaru\"\n",
    "E4 = \"Maharshi\"\n",
    "E5 = \"Bharath ane Nenu\"\n",
    "print(E1)"
   ]
  },
  {
   "cell_type": "code",
   "execution_count": 11,
   "id": "8ab8f7c8-a15e-4dd8-bfa3-a607eb478671",
   "metadata": {},
   "outputs": [
    {
     "name": "stdout",
     "output_type": "stream",
     "text": [
      "Sarkari  vari Pata\n"
     ]
    }
   ],
   "source": [
    "print(E2)"
   ]
  },
  {
   "cell_type": "code",
   "execution_count": 13,
   "id": "c02f1157-7038-44d2-9a84-32229a5687f9",
   "metadata": {},
   "outputs": [
    {
     "name": "stdout",
     "output_type": "stream",
     "text": [
      "Sarileru neekevvaru\n"
     ]
    }
   ],
   "source": [
    "print(E3)"
   ]
  },
  {
   "cell_type": "code",
   "execution_count": 15,
   "id": "2a2d6328-bc68-4234-a220-1f986ed06fec",
   "metadata": {},
   "outputs": [
    {
     "name": "stdout",
     "output_type": "stream",
     "text": [
      "Maharshi\n"
     ]
    }
   ],
   "source": [
    "print(E4)"
   ]
  },
  {
   "cell_type": "code",
   "execution_count": 17,
   "id": "b6a7ebb0-3933-48c2-9804-7bd75af085a7",
   "metadata": {},
   "outputs": [
    {
     "name": "stdout",
     "output_type": "stream",
     "text": [
      "Bharath ane Nenu\n"
     ]
    }
   ],
   "source": [
    "print(E5)"
   ]
  },
  {
   "cell_type": "code",
   "execution_count": 23,
   "id": "c81e55cf-ac8b-4f8f-a879-84547a082b03",
   "metadata": {},
   "outputs": [
    {
     "name": "stdout",
     "output_type": "stream",
     "text": [
      "Guntur Karam Sarkari  vari Pata Sarileru neekevvaru Maharshi Bharath ane Nenu\n"
     ]
    }
   ],
   "source": [
    "print(E1,E2,E3,E4,E5)"
   ]
  },
  {
   "cell_type": "code",
   "execution_count": null,
   "id": "90dd1038-23f5-4748-8620-78ab1fc54b73",
   "metadata": {},
   "outputs": [],
   "source": []
  },
  {
   "cell_type": "code",
   "execution_count": null,
   "id": "4909474d-0999-44bc-8b32-53bc65d13a31",
   "metadata": {},
   "outputs": [],
   "source": []
  },
  {
   "cell_type": "code",
   "execution_count": 25,
   "id": "adb5cee5-faf5-43b3-b547-144dd1734813",
   "metadata": {},
   "outputs": [
    {
     "name": "stdout",
     "output_type": "stream",
     "text": [
      "Apple\n"
     ]
    }
   ],
   "source": [
    "E1 = 'Apple'\n",
    "E2 = 'Sapota'\n",
    "E3 = 'SS Rajamouli'\n",
    "E4 = 'Dell'\n",
    "E5 = 'Bharath'\n",
    "print(E1)"
   ]
  },
  {
   "cell_type": "code",
   "execution_count": 27,
   "id": "b1b6d0f7-015a-4a04-8c82-b8a3b47f4d7e",
   "metadata": {},
   "outputs": [
    {
     "name": "stdout",
     "output_type": "stream",
     "text": [
      "Sapota\n"
     ]
    }
   ],
   "source": [
    "print(E2)"
   ]
  },
  {
   "cell_type": "code",
   "execution_count": 29,
   "id": "90d4220b-c0cc-494c-b9fa-0b074642a502",
   "metadata": {},
   "outputs": [
    {
     "name": "stdout",
     "output_type": "stream",
     "text": [
      "SS Rajamouli\n"
     ]
    }
   ],
   "source": [
    "print(E3)"
   ]
  },
  {
   "cell_type": "code",
   "execution_count": 31,
   "id": "cba26b89-3217-4df1-909c-d8e8d985c283",
   "metadata": {},
   "outputs": [
    {
     "name": "stdout",
     "output_type": "stream",
     "text": [
      "SS Rajamouli\n"
     ]
    }
   ],
   "source": [
    "print(E3)"
   ]
  },
  {
   "cell_type": "code",
   "execution_count": 33,
   "id": "045b824f-a2de-4449-a6d4-453db3572b6b",
   "metadata": {},
   "outputs": [
    {
     "name": "stdout",
     "output_type": "stream",
     "text": [
      "Dell\n"
     ]
    }
   ],
   "source": [
    "print(E4)"
   ]
  },
  {
   "cell_type": "code",
   "execution_count": 35,
   "id": "6978fcbc-bbd0-492e-b4d0-4d5de575e49f",
   "metadata": {},
   "outputs": [
    {
     "name": "stdout",
     "output_type": "stream",
     "text": [
      "Bharath\n"
     ]
    }
   ],
   "source": [
    "print(E5)"
   ]
  },
  {
   "cell_type": "code",
   "execution_count": 37,
   "id": "bef97723-638d-4823-a450-772b2b1b2f2f",
   "metadata": {},
   "outputs": [
    {
     "name": "stdout",
     "output_type": "stream",
     "text": [
      "Apple Sapota SS Rajamouli Dell Bharath\n"
     ]
    }
   ],
   "source": [
    "print(E1,E2,E3,E4,E5)"
   ]
  },
  {
   "cell_type": "code",
   "execution_count": null,
   "id": "352c1778-2e5b-44ad-956c-250d34d6113b",
   "metadata": {},
   "outputs": [],
   "source": []
  },
  {
   "cell_type": "markdown",
   "id": "4cb01dd0-46c7-4a99-9531-e0b90b19a94e",
   "metadata": {},
   "source": [
    "## 3. Create a string of 50 characters and access any 10, using index ,slicing any 2 examples."
   ]
  },
  {
   "cell_type": "code",
   "execution_count": 43,
   "id": "128e9001-6f50-4d24-8f51-f65a71964cb6",
   "metadata": {},
   "outputs": [
    {
     "name": "stdout",
     "output_type": "stream",
     "text": [
      "Ghattamaneni Mahesh Babu was born on 9 August 1975 in a Telugu family\n"
     ]
    }
   ],
   "source": [
    "String= \"Ghattamaneni Mahesh Babu was born on 9 August 1975 in a Telugu family\"\n",
    "print(String)"
   ]
  },
  {
   "cell_type": "raw",
   "id": "86d2d99f-0e27-4563-a186-257b676ce652",
   "metadata": {},
   "source": [
    "print(len(String))\n"
   ]
  },
  {
   "cell_type": "code",
   "execution_count": 41,
   "id": "4e49144e-c4e1-40c8-89a3-9ce0cfeeb6f5",
   "metadata": {},
   "outputs": [
    {
     "name": "stdout",
     "output_type": "stream",
     "text": [
      "h\n"
     ]
    }
   ],
   "source": [
    "print(String[1])"
   ]
  },
  {
   "cell_type": "code",
   "execution_count": 45,
   "id": "44358295-c959-4cc8-a4ad-f6422ef8c0b9",
   "metadata": {},
   "outputs": [
    {
     "name": "stdout",
     "output_type": "stream",
     "text": [
      "B\n"
     ]
    }
   ],
   "source": [
    "print(String[20])"
   ]
  },
  {
   "cell_type": "code",
   "execution_count": 47,
   "id": "f6933755-78d9-42ef-a5a0-2101ee56da90",
   "metadata": {},
   "outputs": [
    {
     "name": "stdout",
     "output_type": "stream",
     "text": [
      "u\n"
     ]
    }
   ],
   "source": [
    "print(String[-29])"
   ]
  },
  {
   "cell_type": "code",
   "execution_count": 49,
   "id": "eb417675-6247-440b-8c35-442b25ee0755",
   "metadata": {},
   "outputs": [
    {
     "name": "stdout",
     "output_type": "stream",
     "text": [
      "i\n"
     ]
    }
   ],
   "source": [
    "print(String[11])"
   ]
  },
  {
   "cell_type": "code",
   "execution_count": 51,
   "id": "db7bd2eb-3a62-4f16-adef-a0cfef63cf01",
   "metadata": {},
   "outputs": [
    {
     "name": "stdout",
     "output_type": "stream",
     "text": [
      "r\n"
     ]
    }
   ],
   "source": [
    "print(String[31])"
   ]
  },
  {
   "cell_type": "code",
   "execution_count": 53,
   "id": "32bbef43-eb13-4b8d-82cb-e94ccff14587",
   "metadata": {},
   "outputs": [
    {
     "name": "stdout",
     "output_type": "stream",
     "text": [
      "hattamaneni Mahesh Babu was born on 9 August\n"
     ]
    }
   ],
   "source": [
    "print(String[1:45])"
   ]
  },
  {
   "cell_type": "code",
   "execution_count": 55,
   "id": "7139ed57-67b1-4d3a-b9bf-1cb0def781c4",
   "metadata": {},
   "outputs": [
    {
     "name": "stdout",
     "output_type": "stream",
     "text": [
      "hattamaneni Mahesh\n"
     ]
    }
   ],
   "source": [
    "print(String[1:-50])"
   ]
  },
  {
   "cell_type": "code",
   "execution_count": null,
   "id": "fa96d231-bf5f-4fd2-92a0-75968f58b1cb",
   "metadata": {},
   "outputs": [],
   "source": []
  },
  {
   "cell_type": "markdown",
   "id": "4233626a-efe4-44a5-8129-6443811fe7bd",
   "metadata": {},
   "source": [
    "## 4. Explain about string formats ?\n",
    "- string formats are classified into three types.\n",
    "- they are.\n",
    "- Old style.\n",
    "- Format style.\n",
    "- f string method."
   ]
  },
  {
   "cell_type": "markdown",
   "id": "82b7c876-a92f-4e29-9929-110cfcf94bbc",
   "metadata": {},
   "source": [
    "## Old style.\n"
   ]
  },
  {
   "cell_type": "code",
   "execution_count": 60,
   "id": "9abe86cc-ec50-4688-9f1b-816a72d3c64c",
   "metadata": {},
   "outputs": [
    {
     "name": "stdout",
     "output_type": "stream",
     "text": [
      "my name is Tom and my friend name is Jerry\n"
     ]
    }
   ],
   "source": [
    "name = \"Tom\"\n",
    "Name = \"Jerry\"\n",
    "str = \"my name is %s and my friend name is %s\"%(name,Name)\n",
    "print(str)"
   ]
  },
  {
   "cell_type": "code",
   "execution_count": null,
   "id": "0f84e7f4-1436-470f-8a27-be8c9c48da69",
   "metadata": {},
   "outputs": [],
   "source": []
  },
  {
   "cell_type": "markdown",
   "id": "85e4f575-11eb-47ee-b316-dc6284381d12",
   "metadata": {},
   "source": [
    "## Format style."
   ]
  },
  {
   "cell_type": "markdown",
   "id": "200d68c0-5707-4dca-99b4-216cb874f0a4",
   "metadata": {},
   "source": [
    "- it replaces % with {} with the placeholder.\n",
    "- They use curly braces for the expressions."
   ]
  },
  {
   "cell_type": "code",
   "execution_count": 90,
   "id": "36c0c797-b4bd-42df-ac57-18db62f125e3",
   "metadata": {},
   "outputs": [
    {
     "name": "stdout",
     "output_type": "stream",
     "text": [
      "my name is Tom and my age is 1000 years old\n"
     ]
    }
   ],
   "source": [
    "name = \"Tom\"\n",
    "age = 1000\n",
    "string= \"my name is {} and my age is {} years old\" .format(name,age)\n",
    "print(string)"
   ]
  },
  {
   "cell_type": "code",
   "execution_count": null,
   "id": "89587950-f391-4be4-843c-0a1a5e190dc7",
   "metadata": {},
   "outputs": [],
   "source": []
  },
  {
   "cell_type": "markdown",
   "id": "83299050-642f-4467-a846-da0edb11bec7",
   "metadata": {},
   "source": [
    "## f string method."
   ]
  },
  {
   "cell_type": "markdown",
   "id": "0f146ae4-51ee-4e4c-a931-b221d8bb4556",
   "metadata": {},
   "source": [
    "- To simplify string formatting and interpolation .\n",
    "- f-string is used where expressions inside curly braces {} are evaluted."
   ]
  },
  {
   "cell_type": "code",
   "execution_count": 104,
   "id": "e30f0585-19b4-448f-9daf-75e571926c4d",
   "metadata": {},
   "outputs": [
    {
     "name": "stdout",
     "output_type": "stream",
     "text": [
      "my name is Tom and my age is 1000 years old\n"
     ]
    }
   ],
   "source": [
    "name = \"Tom\"\n",
    "age = 1000\n",
    "string=f\"my name is {name} and my age is {age} years old\"\n",
    "print(string)"
   ]
  },
  {
   "cell_type": "code",
   "execution_count": null,
   "id": "12f5aa07-8829-43d8-862f-c265e0a85b9e",
   "metadata": {},
   "outputs": [],
   "source": []
  },
  {
   "cell_type": "markdown",
   "id": "f535dd6f-9dda-4216-b1f9-e16a32364647",
   "metadata": {},
   "source": [
    "## 5. Apply  String operations ?\n",
    "1, Concatination.\n",
    "  "
   ]
  },
  {
   "cell_type": "markdown",
   "id": "fa603824-7cd1-4168-842b-b516977e3ae2",
   "metadata": {},
   "source": [
    "- adding of things."
   ]
  },
  {
   "cell_type": "code",
   "execution_count": 112,
   "id": "1f8df59a-0ec8-4761-bbd3-04000e00fb80",
   "metadata": {},
   "outputs": [
    {
     "name": "stdout",
     "output_type": "stream",
     "text": [
      "My name is  Tom\n"
     ]
    }
   ],
   "source": [
    "A = \"My name is \"\n",
    "B = \"Tom\"\n",
    "C = A+' '+B\n",
    "print(C)"
   ]
  },
  {
   "cell_type": "code",
   "execution_count": null,
   "id": "af7a0a10-b8d7-40df-a70e-e033b0f11944",
   "metadata": {},
   "outputs": [],
   "source": []
  },
  {
   "cell_type": "markdown",
   "id": "628034e3-40c3-4aed-8feb-24a15cd9b831",
   "metadata": {},
   "source": [
    "2, Repetion:"
   ]
  },
  {
   "cell_type": "code",
   "execution_count": 127,
   "id": "0431c0a3-1cdd-449e-817b-8ebb8027f708",
   "metadata": {},
   "outputs": [
    {
     "name": "stdout",
     "output_type": "stream",
     "text": [
      "Jai Shree KrishnaJai Shree KrishnaJai Shree KrishnaJai Shree KrishnaJai Shree KrishnaJai Shree KrishnaJai Shree KrishnaJai Shree KrishnaJai Shree KrishnaJai Shree Krishna\n"
     ]
    }
   ],
   "source": [
    "A = \"Jai Shree Krishna\"\n",
    "B = A*10\n",
    "print(B)"
   ]
  },
  {
   "cell_type": "code",
   "execution_count": null,
   "id": "9b41d641-ca5c-46d4-a112-d99675bcd055",
   "metadata": {},
   "outputs": [],
   "source": []
  },
  {
   "cell_type": "markdown",
   "id": "23786860-d804-4ffa-a2c8-82fd165fadd5",
   "metadata": {},
   "source": [
    "3, Slicing."
   ]
  },
  {
   "cell_type": "markdown",
   "id": "ce1b5b82-6e0f-4447-86e9-be9fbb40b874",
   "metadata": {},
   "source": [
    "- slicing is a process of extracting a substring from a string."
   ]
  },
  {
   "cell_type": "code",
   "execution_count": 137,
   "id": "71610d8d-55a9-4860-ab1a-591d0deb3344",
   "metadata": {},
   "outputs": [
    {
     "name": "stdout",
     "output_type": "stream",
     "text": [
      "b\n",
      "n\n"
     ]
    }
   ],
   "source": [
    "String= \"Ghattamaneni Mahesh Babu\"\n",
    "print(String[-2])\n",
    "print(String[10])"
   ]
  },
  {
   "cell_type": "code",
   "execution_count": null,
   "id": "e63e16d1-8b8c-4355-b7d2-c9a07b5aa218",
   "metadata": {},
   "outputs": [],
   "source": []
  },
  {
   "cell_type": "markdown",
   "id": "34fc3c68-dda7-439b-ace5-f82df94ee36c",
   "metadata": {},
   "source": [
    "4. Indexing ."
   ]
  },
  {
   "cell_type": "markdown",
   "id": "d27931a3-3c82-4d99-a730-b87edcb3676a",
   "metadata": {},
   "source": [
    "- Accessing individual character in a string."
   ]
  },
  {
   "cell_type": "code",
   "execution_count": null,
   "id": "8bf40413-3466-47d7-ac33-68c7eef7e0ee",
   "metadata": {},
   "outputs": [],
   "source": [
    "String= \"Ghattamaneni Mahesh Babu\"\n",
    "print(String[5:-9])\n",
    "print(String[10])"
   ]
  }
 ],
 "metadata": {
  "kernelspec": {
   "display_name": "Python 3 (ipykernel)",
   "language": "python",
   "name": "python3"
  },
  "language_info": {
   "codemirror_mode": {
    "name": "ipython",
    "version": 3
   },
   "file_extension": ".py",
   "mimetype": "text/x-python",
   "name": "python",
   "nbconvert_exporter": "python",
   "pygments_lexer": "ipython3",
   "version": "3.12.4"
  }
 },
 "nbformat": 4,
 "nbformat_minor": 5
}
